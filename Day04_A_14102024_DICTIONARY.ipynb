{
  "nbformat": 4,
  "nbformat_minor": 0,
  "metadata": {
    "colab": {
      "provenance": []
    },
    "kernelspec": {
      "name": "python3",
      "display_name": "Python 3"
    },
    "language_info": {
      "name": "python"
    }
  },
  "cells": [
    {
      "cell_type": "markdown",
      "source": [
        "# DICTIONARY"
      ],
      "metadata": {
        "id": "Ie80ijSgNqOc"
      }
    },
    {
      "cell_type": "markdown",
      "source": [
        "## CREATING A DICTIONARY"
      ],
      "metadata": {
        "id": "oYXXywwaTe83"
      }
    },
    {
      "cell_type": "code",
      "execution_count": null,
      "metadata": {
        "id": "UpE-JKCaP8Ph",
        "colab": {
          "base_uri": "https://localhost:8080/"
        },
        "outputId": "e2381513-b7b9-4c95-fb70-67cb5c3da674"
      },
      "outputs": [
        {
          "output_type": "stream",
          "name": "stdout",
          "text": [
            "{'name': 'Gopal', 'age': 25, 'city': 'Vaikunth'}\n"
          ]
        }
      ],
      "source": [
        "# METHOD 1\n",
        "my_dict = {\n",
        "    \"name\": \"Gopal\",\n",
        "    \"age\": 25,\n",
        "    \"city\": \"Vaikunth\"\n",
        "}\n",
        "print(my_dict)"
      ]
    },
    {
      "cell_type": "code",
      "source": [
        "# METHOD 2\n",
        "my_dict2 = dict(name = \"Gopal\",age = 25, city = \"Vaikunth\")\n",
        "print(my_dict2)"
      ],
      "metadata": {
        "colab": {
          "base_uri": "https://localhost:8080/"
        },
        "id": "2CjvBpG3RWfL",
        "outputId": "80b6ee64-90f0-4c8e-962a-cc203292d501"
      },
      "execution_count": null,
      "outputs": [
        {
          "output_type": "stream",
          "name": "stdout",
          "text": [
            "{'name': 'Gopal', 'age': 25, 'city': 'Vaikunth'}\n"
          ]
        }
      ]
    },
    {
      "cell_type": "markdown",
      "source": [
        "## ACCESSING VALUES"
      ],
      "metadata": {
        "id": "H06kDU8uTnaN"
      }
    },
    {
      "cell_type": "code",
      "source": [
        "print(my_dict[\"name\"])\n",
        "print(my_dict2[\"city\"])"
      ],
      "metadata": {
        "colab": {
          "base_uri": "https://localhost:8080/"
        },
        "id": "aaKZTqK8RqCb",
        "outputId": "b445ee1d-fa6e-4649-bd79-a83adfd20115"
      },
      "execution_count": null,
      "outputs": [
        {
          "output_type": "stream",
          "name": "stdout",
          "text": [
            "Gopal\n",
            "Vaikunth\n"
          ]
        }
      ]
    },
    {
      "cell_type": "markdown",
      "source": [
        "## ADDING OR UPDATING ITEMS"
      ],
      "metadata": {
        "id": "Vi7oWpKWTtw7"
      }
    },
    {
      "cell_type": "code",
      "source": [
        "my_dict[\"age\"] = 10 # Updating\n",
        "my_dict2[\"occupation\"] = \"King\" # Adding\n",
        "print(my_dict)\n",
        "print(my_dict2)"
      ],
      "metadata": {
        "colab": {
          "base_uri": "https://localhost:8080/"
        },
        "id": "2sRGfOcRR3Sq",
        "outputId": "d7f1a966-ffc9-4b3c-aff7-ea2411b1604c"
      },
      "execution_count": null,
      "outputs": [
        {
          "output_type": "stream",
          "name": "stdout",
          "text": [
            "{'name': 'Gopal', 'age': 10, 'city': 'Vaikunth'}\n",
            "{'name': 'Gopal', 'age': 25, 'city': 'Vaikunth', 'occupation': 'King'}\n"
          ]
        }
      ]
    },
    {
      "cell_type": "markdown",
      "source": [
        "## REMOVING ITEMS"
      ],
      "metadata": {
        "id": "7LFRo_elT1Og"
      }
    },
    {
      "cell_type": "code",
      "source": [
        "del my_dict[\"city\"]\n",
        "print(my_dict)"
      ],
      "metadata": {
        "colab": {
          "base_uri": "https://localhost:8080/"
        },
        "id": "heXujqDcSWng",
        "outputId": "a8cbdc3f-7503-44bf-cc27-d96cf416027b"
      },
      "execution_count": null,
      "outputs": [
        {
          "output_type": "stream",
          "name": "stdout",
          "text": [
            "{'name': 'Gopal', 'age': 10}\n"
          ]
        }
      ]
    },
    {
      "cell_type": "code",
      "source": [
        "my_dict = {\n",
        "    \"name\": \"Gopal\",\n",
        "    \"age\": 25,\n",
        "    \"city\": \"Vaikunth\"\n",
        "}\n",
        "print(my_dict)"
      ],
      "metadata": {
        "colab": {
          "base_uri": "https://localhost:8080/"
        },
        "id": "AhiXoxOfS2OQ",
        "outputId": "734037c9-9407-4234-caeb-653e5e330bd3"
      },
      "execution_count": null,
      "outputs": [
        {
          "output_type": "stream",
          "name": "stdout",
          "text": [
            "{'name': 'Gopal', 'age': 25, 'city': 'Vaikunth'}\n"
          ]
        }
      ]
    },
    {
      "cell_type": "markdown",
      "source": [
        "## FOR LOOPING THROUGH DICTIONARY"
      ],
      "metadata": {
        "id": "p-DUIOxfT_d1"
      }
    },
    {
      "cell_type": "code",
      "source": [
        "for key in my_dict:\n",
        "    print(key, end=\"\\t\")"
      ],
      "metadata": {
        "colab": {
          "base_uri": "https://localhost:8080/"
        },
        "id": "liEtSBU4TAHo",
        "outputId": "ae97d161-d588-4997-cc4e-7e3e1c4e48b6"
      },
      "execution_count": null,
      "outputs": [
        {
          "output_type": "stream",
          "name": "stdout",
          "text": [
            "name\tage\tcity\t"
          ]
        }
      ]
    },
    {
      "cell_type": "code",
      "source": [
        "for value in my_dict.values():\n",
        "    print(value, end =\"\\t\")"
      ],
      "metadata": {
        "colab": {
          "base_uri": "https://localhost:8080/"
        },
        "id": "oJl4vdxlTLwn",
        "outputId": "81a25066-f03d-45ff-9ede-aaaafb97c5c7"
      },
      "execution_count": null,
      "outputs": [
        {
          "output_type": "stream",
          "name": "stdout",
          "text": [
            "Gopal\t25\tVaikunth\t"
          ]
        }
      ]
    },
    {
      "cell_type": "code",
      "source": [
        "for key,value in my_dict.items():\n",
        "    print(key, value, end=\"\\t\")"
      ],
      "metadata": {
        "colab": {
          "base_uri": "https://localhost:8080/"
        },
        "id": "yqbArl93Tdde",
        "outputId": "fe82f731-3976-4c4b-f416-7714f4d91fa9"
      },
      "execution_count": null,
      "outputs": [
        {
          "output_type": "stream",
          "name": "stdout",
          "text": [
            "name Gopal\tage 25\tcity Vaikunth\t"
          ]
        }
      ]
    },
    {
      "cell_type": "markdown",
      "source": [
        "## FOR ACCESSING KEYS"
      ],
      "metadata": {
        "id": "acJtWxllUR24"
      }
    },
    {
      "cell_type": "code",
      "source": [
        "print(my_dict.keys())"
      ],
      "metadata": {
        "colab": {
          "base_uri": "https://localhost:8080/"
        },
        "id": "wOC_b1euTnEV",
        "outputId": "46f9a8b1-a16a-4e25-9ee7-4984810dd35a"
      },
      "execution_count": null,
      "outputs": [
        {
          "output_type": "stream",
          "name": "stdout",
          "text": [
            "dict_keys(['name', 'age', 'city'])\n"
          ]
        }
      ]
    },
    {
      "cell_type": "markdown",
      "source": [
        "## FOR ACCESSING VALUES"
      ],
      "metadata": {
        "id": "-JlSpWkeUWbO"
      }
    },
    {
      "cell_type": "code",
      "source": [
        "print(my_dict.values())"
      ],
      "metadata": {
        "colab": {
          "base_uri": "https://localhost:8080/"
        },
        "id": "80h4MaFeTxP8",
        "outputId": "e9939c42-5021-4a84-8c97-e3b96773792d"
      },
      "execution_count": null,
      "outputs": [
        {
          "output_type": "stream",
          "name": "stdout",
          "text": [
            "dict_values(['Gopal', 25, 'Vaikunth'])\n"
          ]
        }
      ]
    },
    {
      "cell_type": "markdown",
      "source": [
        "## FOR ACCESSSING ITEMS"
      ],
      "metadata": {
        "id": "YblI48vPUedO"
      }
    },
    {
      "cell_type": "code",
      "source": [
        "print(my_dict.items())"
      ],
      "metadata": {
        "colab": {
          "base_uri": "https://localhost:8080/"
        },
        "id": "6GL1bPWbT0nF",
        "outputId": "377eae8f-9b45-48d4-d83d-2a7e07ac3219"
      },
      "execution_count": null,
      "outputs": [
        {
          "output_type": "stream",
          "name": "stdout",
          "text": [
            "dict_items([('name', 'Gopal'), ('age', 25), ('city', 'Vaikunth')])\n"
          ]
        }
      ]
    },
    {
      "cell_type": "code",
      "source": [
        "nameD = input(\"Enter your name: \")\n",
        "ageD = int(input(\"Enter your age: \"))\n",
        "cityD = input(\"Enter your city: \")\n",
        "occupationD = input(\"Enter your occupaion: \")\n",
        "\n",
        "detail_dict = dict(name = nameD, age = ageD, city = cityD, occupation = occupationD)\n",
        "print(detail_dict)"
      ],
      "metadata": {
        "id": "aZhcd35VUNZM",
        "outputId": "d2035dde-ab27-44e8-ff80-39de3bd8cc01",
        "colab": {
          "base_uri": "https://localhost:8080/"
        }
      },
      "execution_count": 3,
      "outputs": [
        {
          "output_type": "stream",
          "name": "stdout",
          "text": [
            "Enter your name: Arunava\n",
            "Enter your age: 21\n",
            "Enter your city: Siliguri\n",
            "Enter your occupaion: Software Engineer\n",
            "{'name': 'Arunava', 'age': 21, 'city': 'Siliguri', 'occupation': 'Software Engineer'}\n"
          ]
        }
      ]
    },
    {
      "cell_type": "markdown",
      "source": [
        "## JOINING TWO LISTS TO FORM A DICTIONARY"
      ],
      "metadata": {
        "id": "aoey4a_RUiQC"
      }
    },
    {
      "cell_type": "code",
      "source": [
        "nameD = input(\"Enter your name: \")\n",
        "ageD = int(input(\"Enter your age: \"))\n",
        "cityD = input(\"Enter your city: \")\n",
        "occupationD = input(\"Enter your occupaion: \")\n",
        "\n",
        "title_list = [\"name\", \"age\", \"city\", \"occupation\"]\n",
        "value_list = [nameD, ageD, cityD, occupationD]\n",
        "\n",
        "detail_dict = {title_list[i]:value_list[i] for i in range(len(title_list))}\n",
        "print(detail_dict)"
      ],
      "metadata": {
        "colab": {
          "base_uri": "https://localhost:8080/"
        },
        "id": "icGdpGBhV3_v",
        "outputId": "1b38212d-63d2-4a2d-c393-8a0ca5fd7623"
      },
      "execution_count": 2,
      "outputs": [
        {
          "output_type": "stream",
          "name": "stdout",
          "text": [
            "Enter your name: Ahalya\n",
            "Enter your age: 20\n",
            "Enter your city: Delhi\n",
            "Enter your occupaion: Student\n",
            "{'name': 'Ahalya', 'age': 20, 'city': 'Delhi', 'occupation': 'Student'}\n"
          ]
        }
      ]
    },
    {
      "cell_type": "code",
      "source": [
        "my_dict = {}\n",
        "entries = int(input(\"Enter the number of entries: \"))\n",
        "for i in range(1, entries + 1):\n",
        "    value = int(input(\"Enter a numeric value: \"))\n",
        "    my_dict[f\"key{i}\"] = value\n",
        "print(my_dict)"
      ],
      "metadata": {
        "colab": {
          "base_uri": "https://localhost:8080/"
        },
        "id": "xthhwm23ccBV",
        "outputId": "20ba94c7-1db2-42c3-edc9-91241a292d49"
      },
      "execution_count": null,
      "outputs": [
        {
          "output_type": "stream",
          "name": "stdout",
          "text": [
            "Enter the number of entries: 3\n",
            "Enter a numeric value: 1\n",
            "Enter a numeric value: 2\n",
            "Enter a numeric value: -9\n",
            "{'key1': 1, 'key2': 2, 'key3': -9}\n"
          ]
        }
      ]
    },
    {
      "cell_type": "markdown",
      "source": [
        "## ALLOWS DUPLICATE?"
      ],
      "metadata": {
        "id": "BIZyXEheUous"
      }
    },
    {
      "cell_type": "code",
      "source": [
        "my_dict = dict(name = \"Adwith\", name = \"Shyamsundar\")\n",
        "print(my_dict)"
      ],
      "metadata": {
        "colab": {
          "base_uri": "https://localhost:8080/",
          "height": 108
        },
        "id": "qnjzZ4flPMst",
        "outputId": "ae4a9dea-5dd3-415e-e57d-6041c4772b31"
      },
      "execution_count": 1,
      "outputs": [
        {
          "output_type": "error",
          "ename": "SyntaxError",
          "evalue": "keyword argument repeated: name (<ipython-input-1-9c4a3646f59d>, line 1)",
          "traceback": [
            "\u001b[0;36m  File \u001b[0;32m\"<ipython-input-1-9c4a3646f59d>\"\u001b[0;36m, line \u001b[0;32m1\u001b[0m\n\u001b[0;31m    my_dict = dict(name = \"Adwith\", name = \"Shyamsundar\")\u001b[0m\n\u001b[0m                                    ^\u001b[0m\n\u001b[0;31mSyntaxError\u001b[0m\u001b[0;31m:\u001b[0m keyword argument repeated: name\n"
          ]
        }
      ]
    },
    {
      "cell_type": "markdown",
      "source": [
        "Output: SyntaxError\n",
        "\n",
        "Key must be unique"
      ],
      "metadata": {
        "id": "jxsHRV58PiJI"
      }
    },
    {
      "cell_type": "code",
      "source": [
        "my_dict = dict(num1 = 1, num2 = 1)\n",
        "print(my_dict)\n",
        "# No SyntaxError"
      ],
      "metadata": {
        "colab": {
          "base_uri": "https://localhost:8080/"
        },
        "id": "DtcYaz__PggR",
        "outputId": "7b800c8a-67ab-48af-dd80-e78cd40d2e68"
      },
      "execution_count": null,
      "outputs": [
        {
          "output_type": "stream",
          "name": "stdout",
          "text": [
            "{'num1': 1, 'num2': 1}\n"
          ]
        }
      ]
    },
    {
      "cell_type": "markdown",
      "source": [
        "\"Key must be unique in a dictionary.\""
      ],
      "metadata": {
        "id": "bCTar-Q9P9K8"
      }
    }
  ]
}