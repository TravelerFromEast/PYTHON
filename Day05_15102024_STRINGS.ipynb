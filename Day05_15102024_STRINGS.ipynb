{
  "nbformat": 4,
  "nbformat_minor": 0,
  "metadata": {
    "colab": {
      "provenance": []
    },
    "kernelspec": {
      "name": "python3",
      "display_name": "Python 3"
    },
    "language_info": {
      "name": "python"
    }
  },
  "cells": [
    {
      "cell_type": "markdown",
      "source": [
        "# STRINGS\n",
        "\n",
        "## CREATING A STRING"
      ],
      "metadata": {
        "id": "cwVw1GVJ7lD4"
      }
    },
    {
      "cell_type": "code",
      "execution_count": null,
      "metadata": {
        "colab": {
          "base_uri": "https://localhost:8080/"
        },
        "id": "unDbAmL51iH8",
        "outputId": "ec6c57c1-ddd1-4bf0-da81-f9f7084b5887"
      },
      "outputs": [
        {
          "output_type": "stream",
          "name": "stdout",
          "text": [
            "Hello World!\n",
            "Hello World\n"
          ]
        }
      ],
      "source": [
        "# METHOD1: USING SINGLE OR DOUBLE QUOTATION MARKS\n",
        "single_quot_str = 'Hello World!'\n",
        "double_quot_str = \"Hello World\"\n",
        "print(single_quot_str)\n",
        "print(double_quot_str)"
      ]
    },
    {
      "cell_type": "code",
      "source": [
        "# METHOD2: USING TRIPLE (SINGLE OR DOUBLE) QUOTATION MARKKS\n",
        "triple_squot_str = '''\n",
        "Hello World!\n",
        "I am from India.\n",
        "'''\n",
        "\n",
        "triple_dquot_str = \"\"\"\n",
        "Hello World!\n",
        "I am from India.\n",
        "\"\"\"\n",
        "\n",
        "print(triple_squot_str)\n",
        "print(triple_dquot_str)"
      ],
      "metadata": {
        "colab": {
          "base_uri": "https://localhost:8080/"
        },
        "id": "Qd7--YpI8aAa",
        "outputId": "8e31bee2-9980-4e18-ff3e-e3181e847ab3"
      },
      "execution_count": null,
      "outputs": [
        {
          "output_type": "stream",
          "name": "stdout",
          "text": [
            "\n",
            "Hello World!\n",
            "I am from India.\n",
            "\n",
            "\n",
            "Hello World!\n",
            "I am from India.\n",
            "\n"
          ]
        }
      ]
    },
    {
      "cell_type": "code",
      "source": [
        "print(type(single_quot_str))\n",
        "print(type(double_quot_str))\n",
        "print(type(triple_squot_str))\n",
        "print(type(triple_dquot_str))"
      ],
      "metadata": {
        "colab": {
          "base_uri": "https://localhost:8080/"
        },
        "id": "HdZfDfse9Ld7",
        "outputId": "a27d51e5-d6df-4192-e5bf-5b8ca11f2754"
      },
      "execution_count": null,
      "outputs": [
        {
          "output_type": "stream",
          "name": "stdout",
          "text": [
            "<class 'str'>\n",
            "<class 'str'>\n",
            "<class 'str'>\n",
            "<class 'str'>\n"
          ]
        }
      ]
    },
    {
      "cell_type": "code",
      "source": [
        "string = \"Hello\"\n",
        "num= int(input(\"Enter the number of repetition: \"))\n",
        "print(string*num)"
      ],
      "metadata": {
        "id": "Qg9Z5O1Lj7PF",
        "colab": {
          "base_uri": "https://localhost:8080/"
        },
        "outputId": "52237718-ab9a-41b1-c4d1-7d8280de5608"
      },
      "execution_count": 1,
      "outputs": [
        {
          "output_type": "stream",
          "name": "stdout",
          "text": [
            "Enter the number of repetition: 3\n",
            "HelloHelloHello\n"
          ]
        }
      ]
    },
    {
      "cell_type": "markdown",
      "source": [
        "## ASSESSING STRING ELEMENTS"
      ],
      "metadata": {
        "id": "GsdTv1_59Ewy"
      }
    },
    {
      "cell_type": "code",
      "source": [
        "my_str = \"Bigfoot\"\n",
        "print(my_str[2])"
      ],
      "metadata": {
        "colab": {
          "base_uri": "https://localhost:8080/"
        },
        "id": "3VBqLskX_kuL",
        "outputId": "27849e50-36cf-4eee-8c94-5408d6bcbbcc"
      },
      "execution_count": null,
      "outputs": [
        {
          "output_type": "stream",
          "name": "stdout",
          "text": [
            "g\n"
          ]
        }
      ]
    },
    {
      "cell_type": "markdown",
      "source": [
        "## SLICING OF A STRING\n",
        "\n",
        "(Day01_06092024.ipynb)"
      ],
      "metadata": {
        "id": "gQHeEDvnOpgp"
      }
    },
    {
      "cell_type": "markdown",
      "source": [
        "## STRING FORMATTING"
      ],
      "metadata": {
        "id": "aa5rG_T6O7zu"
      }
    },
    {
      "cell_type": "code",
      "source": [
        "# METHOD 1\n",
        "name = \"Keshav\"\n",
        "print(f\"Hello, {name}!\")"
      ],
      "metadata": {
        "colab": {
          "base_uri": "https://localhost:8080/"
        },
        "id": "CkCTaIZVPCQI",
        "outputId": "d91cd3c1-1b4f-4cc8-9b9b-f15b4475ed37"
      },
      "execution_count": null,
      "outputs": [
        {
          "output_type": "stream",
          "name": "stdout",
          "text": [
            "Hello, Keshav!\n"
          ]
        }
      ]
    },
    {
      "cell_type": "code",
      "source": [
        "# METHOD 2\n",
        "name = \"Keshav\"\n",
        "period = \"Good morning\"\n",
        "print(\"{},{}!\".format(period, name))"
      ],
      "metadata": {
        "colab": {
          "base_uri": "https://localhost:8080/"
        },
        "id": "U5MGVSpKPN8p",
        "outputId": "9c31fe7a-34b0-4f3c-a827-2ad80d74193a"
      },
      "execution_count": null,
      "outputs": [
        {
          "output_type": "stream",
          "name": "stdout",
          "text": [
            "Good morning,Keshav!\n"
          ]
        }
      ]
    },
    {
      "cell_type": "markdown",
      "source": [
        "## STRING METHODS\n",
        "\n",
        "### 1. LENGTH OF A STRING"
      ],
      "metadata": {
        "id": "3w5gQSZ_UoNN"
      }
    },
    {
      "cell_type": "code",
      "source": [
        "my_string = \"Ananta\"\n",
        "print(len(my_string))"
      ],
      "metadata": {
        "colab": {
          "base_uri": "https://localhost:8080/"
        },
        "id": "ikNU6hq8UtyR",
        "outputId": "f5aa94dc-369e-4935-b937-3f20af11d1f6"
      },
      "execution_count": null,
      "outputs": [
        {
          "output_type": "stream",
          "name": "stdout",
          "text": [
            "6\n"
          ]
        }
      ]
    },
    {
      "cell_type": "markdown",
      "source": [
        "## 2. CHANGING CASE"
      ],
      "metadata": {
        "id": "JSL9N8gAU4CW"
      }
    },
    {
      "cell_type": "code",
      "source": [
        "# FROM LOWER TO UPPER\n",
        "my_string = \"ananta\"\n",
        "print(my_string.upper())"
      ],
      "metadata": {
        "colab": {
          "base_uri": "https://localhost:8080/"
        },
        "id": "7z0MfVqZU7Qa",
        "outputId": "565b4001-8f22-41b2-d89b-12d328ade9d8"
      },
      "execution_count": null,
      "outputs": [
        {
          "output_type": "stream",
          "name": "stdout",
          "text": [
            "ANANTA\n"
          ]
        }
      ]
    },
    {
      "cell_type": "code",
      "source": [
        "# FROM UPPER TO LOWER\n",
        "my_string = \"ANANTA\"\n",
        "print(my_string.lower())"
      ],
      "metadata": {
        "colab": {
          "base_uri": "https://localhost:8080/"
        },
        "id": "AgmXIOCGVQTi",
        "outputId": "2cd91eaf-841d-4e29-add0-dc1afd65a4f7"
      },
      "execution_count": null,
      "outputs": [
        {
          "output_type": "stream",
          "name": "stdout",
          "text": [
            "ananta\n"
          ]
        }
      ]
    },
    {
      "cell_type": "markdown",
      "source": [
        "## 3. CAPITALIZATION"
      ],
      "metadata": {
        "id": "k7nV_R5OVZwy"
      }
    },
    {
      "cell_type": "code",
      "source": [
        "my_string = \"ananta\"\n",
        "print(my_string.capitalize())"
      ],
      "metadata": {
        "colab": {
          "base_uri": "https://localhost:8080/"
        },
        "id": "nv2-JE51VZLp",
        "outputId": "1f83139b-cbe2-4091-a087-c43e1e4c33c2"
      },
      "execution_count": null,
      "outputs": [
        {
          "output_type": "stream",
          "name": "stdout",
          "text": [
            "Ananta\n"
          ]
        }
      ]
    },
    {
      "cell_type": "code",
      "source": [
        "my_string = \"swami vivekananda\"\n",
        "print(my_string.title())"
      ],
      "metadata": {
        "colab": {
          "base_uri": "https://localhost:8080/"
        },
        "id": "lrYcLEnVVkxV",
        "outputId": "6af4ffc4-de43-4ef5-bbd6-d6613a57064b"
      },
      "execution_count": null,
      "outputs": [
        {
          "output_type": "stream",
          "name": "stdout",
          "text": [
            "Swami Vivekananda\n"
          ]
        }
      ]
    },
    {
      "cell_type": "markdown",
      "source": [
        "## 4. FINDING SUBSTRING"
      ],
      "metadata": {
        "id": "0uiVEHRzVyui"
      }
    },
    {
      "cell_type": "code",
      "source": [
        "my_string = \"Hello World!\"\n",
        "print(my_string.find(\"World\"))\n",
        "print(my_string.find(\"Brother\")) # OUTPUT -> -1 -> NO SUCH SUBSTRING"
      ],
      "metadata": {
        "colab": {
          "base_uri": "https://localhost:8080/"
        },
        "id": "BfTvO49pVwhb",
        "outputId": "b873ff8f-f0d2-49cb-fc34-4b21f0cade5e"
      },
      "execution_count": null,
      "outputs": [
        {
          "output_type": "stream",
          "name": "stdout",
          "text": [
            "6\n",
            "-1\n"
          ]
        }
      ]
    },
    {
      "cell_type": "markdown",
      "source": [
        "## 5. REPLACING SUBSTRING"
      ],
      "metadata": {
        "id": "cUDWjGMAWUJ-"
      }
    },
    {
      "cell_type": "code",
      "source": [
        "new_string = my_string.replace(\"World\", \"India\")\n",
        "print(new_string)"
      ],
      "metadata": {
        "colab": {
          "base_uri": "https://localhost:8080/"
        },
        "id": "BBgCq6ikWTPL",
        "outputId": "6d329d90-0048-4531-acc6-b19ccad3495a"
      },
      "execution_count": null,
      "outputs": [
        {
          "output_type": "stream",
          "name": "stdout",
          "text": [
            "Hello India!\n"
          ]
        }
      ]
    },
    {
      "cell_type": "markdown",
      "source": [
        "# STRIPPING"
      ],
      "metadata": {
        "id": "5C412hTnWsLS"
      }
    },
    {
      "cell_type": "code",
      "source": [
        "# WHITESPACE FROM BOTH SIDES\n",
        "my_string = \"   Hello  \"\n",
        "print(len(my_string))\n",
        "print(my_string.strip())\n",
        "print(len(my_string.strip()))"
      ],
      "metadata": {
        "colab": {
          "base_uri": "https://localhost:8080/"
        },
        "id": "2G3DOSwjWrRH",
        "outputId": "5b520af3-aed3-4a35-efdc-2bc443193f5c"
      },
      "execution_count": null,
      "outputs": [
        {
          "output_type": "stream",
          "name": "stdout",
          "text": [
            "10\n",
            "Hello\n",
            "5\n"
          ]
        }
      ]
    },
    {
      "cell_type": "code",
      "source": [
        "# WHITESPACE STRIPING FROM ONLY ONE SIDE\n",
        "# FROM RIGHT SIDE\n",
        "print(my_string.rstrip())\n",
        "print(len(my_string.rstrip()))\n",
        "# FROM LEFT SIDE\n",
        "print(my_string.lstrip())\n",
        "print(len(my_string.lstrip()))"
      ],
      "metadata": {
        "colab": {
          "base_uri": "https://localhost:8080/"
        },
        "id": "1NysDlG5XHSl",
        "outputId": "fdd79d45-0066-4f51-93e8-d333dec4ea4b"
      },
      "execution_count": null,
      "outputs": [
        {
          "output_type": "stream",
          "name": "stdout",
          "text": [
            "   Hello\n",
            "8\n",
            "Hello  \n",
            "7\n"
          ]
        }
      ]
    },
    {
      "cell_type": "code",
      "source": [
        "# OTHER CHARACTER STRIPPING\n",
        "my_string = \"Helloxyzzz\"\n",
        "print(my_string.lstrip(\"xyz\"))\n",
        "print(my_string.rstrip(\"xyz\"))\n",
        "print(my_string.strip(\"xyz\"))"
      ],
      "metadata": {
        "colab": {
          "base_uri": "https://localhost:8080/"
        },
        "id": "4bylieneYNxc",
        "outputId": "68e2b49c-98c3-4f2c-da09-60bcf0c63c76"
      },
      "execution_count": null,
      "outputs": [
        {
          "output_type": "stream",
          "name": "stdout",
          "text": [
            "Helloxyzzz\n",
            "Hello\n",
            "Hello\n"
          ]
        }
      ]
    },
    {
      "cell_type": "code",
      "source": [
        "my_string = \"xhHzHello\"\n",
        "print(my_string.lstrip(\"xhzH\"))\n",
        "print(my_string.rstrip(\"xhzH\"))\n",
        "print(my_string.strip(\"xhzH\"))"
      ],
      "metadata": {
        "colab": {
          "base_uri": "https://localhost:8080/"
        },
        "id": "lmrrizhvYhju",
        "outputId": "8dbe4f43-6c12-47b9-aa0d-e51da7e90a58"
      },
      "execution_count": null,
      "outputs": [
        {
          "output_type": "stream",
          "name": "stdout",
          "text": [
            "ello\n",
            "xhHzHello\n",
            "ello\n"
          ]
        }
      ]
    }
  ]
}