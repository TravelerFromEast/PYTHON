{
  "nbformat": 4,
  "nbformat_minor": 0,
  "metadata": {
    "colab": {
      "provenance": []
    },
    "kernelspec": {
      "name": "python3",
      "display_name": "Python 3"
    },
    "language_info": {
      "name": "python"
    }
  },
  "cells": [
    {
      "cell_type": "markdown",
      "source": [
        "# LIST"
      ],
      "metadata": {
        "id": "J061dU4QTzDG"
      }
    },
    {
      "cell_type": "markdown",
      "source": [
        "## CREATING LIST"
      ],
      "metadata": {
        "id": "3Kg70G3pVZ3s"
      }
    },
    {
      "cell_type": "code",
      "source": [
        "# METHOD 1\n",
        "my_list = [1, 2, 3, 4, 5]\n",
        "print(my_list)"
      ],
      "metadata": {
        "colab": {
          "base_uri": "https://localhost:8080/"
        },
        "id": "TOmXbYiiYS4-",
        "outputId": "4fd5e93f-2649-4408-e46c-662f19184772"
      },
      "execution_count": null,
      "outputs": [
        {
          "output_type": "stream",
          "name": "stdout",
          "text": [
            "[1, 2, 3, 4, 5]\n"
          ]
        }
      ]
    },
    {
      "cell_type": "code",
      "source": [
        "# METHOD 2\n",
        "my_list = list((1, 2, 3, 4, 5))\n",
        "print(my_list)"
      ],
      "metadata": {
        "colab": {
          "base_uri": "https://localhost:8080/"
        },
        "id": "vkVQwiIBeMLs",
        "outputId": "1bcd127c-d7df-402c-f494-7cd9453618d2"
      },
      "execution_count": null,
      "outputs": [
        {
          "output_type": "stream",
          "name": "stdout",
          "text": [
            "[1, 2, 3, 4, 5]\n"
          ]
        }
      ]
    },
    {
      "cell_type": "markdown",
      "source": [
        "## ACCESSING ELEMENTS"
      ],
      "metadata": {
        "id": "jMFmuebRVoza"
      }
    },
    {
      "cell_type": "code",
      "source": [
        "print(my_list[0])"
      ],
      "metadata": {
        "colab": {
          "base_uri": "https://localhost:8080/"
        },
        "id": "Q2fD35TleY2t",
        "outputId": "0b08f381-f1ba-49ab-ebd6-cc049d763d56"
      },
      "execution_count": null,
      "outputs": [
        {
          "output_type": "stream",
          "name": "stdout",
          "text": [
            "1\n"
          ]
        }
      ]
    },
    {
      "cell_type": "markdown",
      "source": [
        "## SLICING A LIST"
      ],
      "metadata": {
        "id": "8rWNn4HBVwF0"
      }
    },
    {
      "cell_type": "code",
      "source": [
        "print(my_list[1:3])\n",
        "print(my_list[1:4:2])"
      ],
      "metadata": {
        "colab": {
          "base_uri": "https://localhost:8080/"
        },
        "id": "PxIKWUxTekwj",
        "outputId": "a29ed3c6-7c6f-41c7-b204-44707671b020"
      },
      "execution_count": null,
      "outputs": [
        {
          "output_type": "stream",
          "name": "stdout",
          "text": [
            "[2, 3]\n",
            "[2, 4]\n"
          ]
        }
      ]
    },
    {
      "cell_type": "markdown",
      "source": [
        "### USING SLICING TO PRINT THE WHOLE LIST"
      ],
      "metadata": {
        "id": "1V1BB0IQV20T"
      }
    },
    {
      "cell_type": "code",
      "source": [
        "print(my_list[:])\n",
        "print(my_list[0:])\n",
        "print(my_list[:5])"
      ],
      "metadata": {
        "colab": {
          "base_uri": "https://localhost:8080/"
        },
        "id": "ATl0CS_6e3mq",
        "outputId": "a7815a8d-d250-4f6c-d2b4-970ebbf9c494"
      },
      "execution_count": null,
      "outputs": [
        {
          "output_type": "stream",
          "name": "stdout",
          "text": [
            "[1, 2, 3, 4, 5]\n",
            "[1, 2, 3, 4, 5]\n",
            "[1, 2, 3, 4, 5]\n"
          ]
        }
      ]
    },
    {
      "cell_type": "markdown",
      "source": [
        "# MODIFYING LISTS\n",
        "\n",
        "## 1. UPDATING LISTS"
      ],
      "metadata": {
        "id": "VwIoAIxJWqdv"
      }
    },
    {
      "cell_type": "code",
      "source": [
        "my_list[2] = 10\n",
        "print(my_list)"
      ],
      "metadata": {
        "colab": {
          "base_uri": "https://localhost:8080/"
        },
        "id": "CkYxT_r3fIJf",
        "outputId": "b68d1681-dd7c-439e-9e0a-c265920f7f2a"
      },
      "execution_count": null,
      "outputs": [
        {
          "output_type": "stream",
          "name": "stdout",
          "text": [
            "[1, 2, 10, 4, 5]\n"
          ]
        }
      ]
    },
    {
      "cell_type": "markdown",
      "source": [
        "## 2. ADDING AN ELEMENT TO THE LIST"
      ],
      "metadata": {
        "id": "nJ2oYSokW5Dq"
      }
    },
    {
      "cell_type": "code",
      "source": [
        "my_list.append(100) # 100 is added at the end of the list\n",
        "print(my_list)"
      ],
      "metadata": {
        "colab": {
          "base_uri": "https://localhost:8080/"
        },
        "id": "t4A6pBDHfVll",
        "outputId": "57f70703-13cc-42ec-ec6c-00982e280d73"
      },
      "execution_count": null,
      "outputs": [
        {
          "output_type": "stream",
          "name": "stdout",
          "text": [
            "[1, 2, 10, 4, 5, 100]\n"
          ]
        }
      ]
    },
    {
      "cell_type": "markdown",
      "source": [
        "## 3. INSETING AN ELEMENT AT A PARTICULAR INDEX IN THE LIST"
      ],
      "metadata": {
        "id": "y8-MgldPW_Bx"
      }
    },
    {
      "cell_type": "code",
      "source": [
        "my_list.insert(2, 40) # it imples 40 is to be inserted at index no. 2\n",
        "print(my_list)"
      ],
      "metadata": {
        "colab": {
          "base_uri": "https://localhost:8080/"
        },
        "id": "WWNZXCT0fiuW",
        "outputId": "7ecaa497-702e-4128-e392-5eda0f7bf928"
      },
      "execution_count": null,
      "outputs": [
        {
          "output_type": "stream",
          "name": "stdout",
          "text": [
            "[1, 2, 40, 10, 4, 5, 100]\n"
          ]
        }
      ]
    },
    {
      "cell_type": "markdown",
      "source": [
        "## 4. REMOVING AN ELEMENT FROM THE LIST"
      ],
      "metadata": {
        "id": "ZsedMy8EXMKG"
      }
    },
    {
      "cell_type": "code",
      "source": [
        "# To remove or delete element from the list\n",
        "my_list.remove(100)\n",
        "print(my_list)\n",
        "# To remove element from a particular index\n",
        "my_list.pop(2)\n",
        "print(my_list)"
      ],
      "metadata": {
        "id": "dnV4lkNoY05K",
        "colab": {
          "base_uri": "https://localhost:8080/"
        },
        "outputId": "7a8f9eaa-d902-4ad9-cb5d-20c2caa52128"
      },
      "execution_count": null,
      "outputs": [
        {
          "output_type": "stream",
          "name": "stdout",
          "text": [
            "[1, 2, 40, 10, 4, 5]\n",
            "[1, 2, 10, 4, 5]\n"
          ]
        }
      ]
    },
    {
      "cell_type": "markdown",
      "source": [
        "## 5. TO CLEAR THE LIST"
      ],
      "metadata": {
        "id": "zHJlLpoqXW2a"
      }
    },
    {
      "cell_type": "code",
      "source": [
        "my_list.clear()\n",
        "print(my_list)"
      ],
      "metadata": {
        "id": "FKbn3JzRZm8n",
        "colab": {
          "base_uri": "https://localhost:8080/"
        },
        "outputId": "49432358-637e-49d6-9c7b-ee58eec42b64"
      },
      "execution_count": null,
      "outputs": [
        {
          "output_type": "stream",
          "name": "stdout",
          "text": [
            "[]\n"
          ]
        }
      ]
    },
    {
      "cell_type": "markdown",
      "source": [
        "## 6. TO SEARCH AN ELEMENT IN THE LIST"
      ],
      "metadata": {
        "id": "AivkzmguXmcj"
      }
    },
    {
      "cell_type": "code",
      "source": [
        "my_list = [\"mango\", \"kiwi\", \"coconut\", \"apple\"]\n",
        "print(my_list.index(\"coconut\"))"
      ],
      "metadata": {
        "colab": {
          "base_uri": "https://localhost:8080/"
        },
        "id": "EqFv8iWuv0YY",
        "outputId": "3c79364c-a600-49d0-fb50-66cf31235b2c"
      },
      "execution_count": null,
      "outputs": [
        {
          "output_type": "stream",
          "name": "stdout",
          "text": [
            "2\n"
          ]
        }
      ]
    },
    {
      "cell_type": "code",
      "source": [
        "# if an element is not present in an array, it'll return an error\n",
        "print(my_list.index(\"banana\"))"
      ],
      "metadata": {
        "colab": {
          "base_uri": "https://localhost:8080/",
          "height": 144
        },
        "id": "SkQFtYqiwK5u",
        "outputId": "ad9bfa3a-f3e7-4065-9065-e71a76423282"
      },
      "execution_count": null,
      "outputs": [
        {
          "output_type": "error",
          "ename": "ValueError",
          "evalue": "'banana' is not in list",
          "traceback": [
            "\u001b[0;31m---------------------------------------------------------------------------\u001b[0m",
            "\u001b[0;31mValueError\u001b[0m                                Traceback (most recent call last)",
            "\u001b[0;32m<ipython-input-13-d052ce50a8a1>\u001b[0m in \u001b[0;36m<cell line: 1>\u001b[0;34m()\u001b[0m\n\u001b[0;32m----> 1\u001b[0;31m \u001b[0mprint\u001b[0m\u001b[0;34m(\u001b[0m\u001b[0mmy_list\u001b[0m\u001b[0;34m.\u001b[0m\u001b[0mindex\u001b[0m\u001b[0;34m(\u001b[0m\u001b[0;34m\"banana\"\u001b[0m\u001b[0;34m)\u001b[0m\u001b[0;34m)\u001b[0m\u001b[0;34m\u001b[0m\u001b[0;34m\u001b[0m\u001b[0m\n\u001b[0m",
            "\u001b[0;31mValueError\u001b[0m: 'banana' is not in list"
          ]
        }
      ]
    },
    {
      "cell_type": "code",
      "source": [
        "my_list.clear()"
      ],
      "metadata": {
        "id": "U0eB9mj6xBKB"
      },
      "execution_count": null,
      "outputs": []
    },
    {
      "cell_type": "markdown",
      "source": [
        "## 7. TO COUNT THE FREQUENCY/ NO. OF OCCURENCES OF AN ELEMENT IN A LIST"
      ],
      "metadata": {
        "id": "OPOFqeNaXwec"
      }
    },
    {
      "cell_type": "code",
      "source": [
        "my_list = [1, 2, 3, 4, 1, 1, 5, 1]\n",
        "print(my_list.count(1))\n",
        "print(my_list.count(7)) # output : 0 as 7 is not present in the list"
      ],
      "metadata": {
        "colab": {
          "base_uri": "https://localhost:8080/"
        },
        "id": "lAEdaFSDwr63",
        "outputId": "c4aa8b48-3986-4796-a7f7-379fbcb07f89"
      },
      "execution_count": null,
      "outputs": [
        {
          "output_type": "stream",
          "name": "stdout",
          "text": [
            "4\n",
            "0\n"
          ]
        }
      ]
    },
    {
      "cell_type": "markdown",
      "source": [
        "# 8. TO SORT A LIST"
      ],
      "metadata": {
        "id": "H0BR2T_qZsR_"
      }
    },
    {
      "cell_type": "code",
      "source": [
        "my_list.sort()\n",
        "print(my_list)"
      ],
      "metadata": {
        "colab": {
          "base_uri": "https://localhost:8080/"
        },
        "id": "KXwDcv2exWUl",
        "outputId": "5d240b8f-111f-485e-889d-7a739097ffc9"
      },
      "execution_count": null,
      "outputs": [
        {
          "output_type": "stream",
          "name": "stdout",
          "text": [
            "[1, 1, 1, 1, 2, 3, 4, 5]\n"
          ]
        }
      ]
    },
    {
      "cell_type": "code",
      "source": [
        "my_list.clear()\n",
        "my_list = [2, 3, 6, 5]\n",
        "my_list.sort(reverse = True)\n",
        "print(my_list)"
      ],
      "metadata": {
        "colab": {
          "base_uri": "https://localhost:8080/"
        },
        "id": "pGLVicOuxk-e",
        "outputId": "4c2b7d71-ec49-4471-eeaa-35632747fed3"
      },
      "execution_count": null,
      "outputs": [
        {
          "output_type": "stream",
          "name": "stdout",
          "text": [
            "[6, 5, 3, 2]\n"
          ]
        }
      ]
    },
    {
      "cell_type": "code",
      "source": [
        "my_list.clear()\n",
        "my_list = [1, 2, 3, 4, 5]\n",
        "# to reverse a list\n",
        "# METHOD 1\n",
        "my_list.reverse()\n",
        "print(my_list)"
      ],
      "metadata": {
        "colab": {
          "base_uri": "https://localhost:8080/"
        },
        "id": "ik9hEbLkx_3D",
        "outputId": "c1eea426-2df8-4415-e466-6742df1fc015"
      },
      "execution_count": null,
      "outputs": [
        {
          "output_type": "stream",
          "name": "stdout",
          "text": [
            "[5, 4, 3, 2, 1]\n"
          ]
        }
      ]
    },
    {
      "cell_type": "code",
      "source": [
        "my_list.clear()\n",
        "my_list = [1, 2, 3, 4, 5]\n",
        "# METHOD 2\n",
        "print(my_list[::-1])"
      ],
      "metadata": {
        "colab": {
          "base_uri": "https://localhost:8080/"
        },
        "id": "8AY8C4coyR_e",
        "outputId": "107da336-ea0f-460f-989b-b49f08519e26"
      },
      "execution_count": null,
      "outputs": [
        {
          "output_type": "stream",
          "name": "stdout",
          "text": [
            "[5, 4, 3, 2, 1]\n"
          ]
        }
      ]
    },
    {
      "cell_type": "code",
      "source": [
        "# In METHOD 2 the actual list is not altered.\n",
        "print(my_list)"
      ],
      "metadata": {
        "colab": {
          "base_uri": "https://localhost:8080/"
        },
        "id": "iMjyIBosyaaR",
        "outputId": "cbf4f541-9a74-4761-8190-353939f6203d"
      },
      "execution_count": null,
      "outputs": [
        {
          "output_type": "stream",
          "name": "stdout",
          "text": [
            "[1, 2, 3, 4, 5]\n"
          ]
        }
      ]
    },
    {
      "cell_type": "markdown",
      "source": [
        "## 9. CONCATENATION OF LISTS"
      ],
      "metadata": {
        "id": "Dw2i1P86Zz9z"
      }
    },
    {
      "cell_type": "code",
      "source": [
        "list1 = [1, 2, 3, 4, 5, 6]\n",
        "list2 = [7, 8, 9, 10]\n",
        "print(list1 + list2)"
      ],
      "metadata": {
        "colab": {
          "base_uri": "https://localhost:8080/"
        },
        "id": "NzdkTEwgyobL",
        "outputId": "9eba2ebe-c757-4772-de04-9570498541d1"
      },
      "execution_count": null,
      "outputs": [
        {
          "output_type": "stream",
          "name": "stdout",
          "text": [
            "[1, 2, 3, 4, 5, 6, 7, 8, 9, 10]\n"
          ]
        }
      ]
    },
    {
      "cell_type": "code",
      "source": [
        "# using extend() function\n",
        "list1.extend(list2)\n",
        "print(list1) # Output: [1, 2, 3, 4, 5, 6, 7, 8, 9, 10] (list1 gets altered)"
      ],
      "metadata": {
        "colab": {
          "base_uri": "https://localhost:8080/"
        },
        "id": "8rm0yCCEI9xb",
        "outputId": "c4651182-5392-4460-e99f-c27ee945a049"
      },
      "execution_count": null,
      "outputs": [
        {
          "output_type": "stream",
          "name": "stdout",
          "text": [
            "[1, 2, 3, 4, 5, 6, 7, 8, 9, 10]\n"
          ]
        }
      ]
    },
    {
      "cell_type": "markdown",
      "source": [
        "## 10. List comprehension"
      ],
      "metadata": {
        "id": "cwKSdtznZ9RB"
      }
    },
    {
      "cell_type": "code",
      "source": [
        "# W.A.P. that prints a list of square of first ten natural numbers.\n",
        "# METHOD 1\n",
        "sq_numList = []\n",
        "for x in range(1, 11):\n",
        "    sq_numList.append(x**2)\n",
        "print(sq_numList)"
      ],
      "metadata": {
        "colab": {
          "base_uri": "https://localhost:8080/"
        },
        "id": "1JHhqlbvJFzV",
        "outputId": "a8a39000-78d7-4b00-cb43-d4b41a1cc220"
      },
      "execution_count": null,
      "outputs": [
        {
          "output_type": "stream",
          "name": "stdout",
          "text": [
            "[1, 4, 9, 16, 25, 36, 49, 64, 81, 100]\n"
          ]
        }
      ]
    },
    {
      "cell_type": "code",
      "source": [
        "sq_numList.clear()\n",
        "# METHOD 2\n",
        "sq_numList = [x**2 for x in range(1, 11)]\n",
        "print(sq_numList)"
      ],
      "metadata": {
        "colab": {
          "base_uri": "https://localhost:8080/"
        },
        "id": "3QXyy8BWJ4be",
        "outputId": "b845ca59-57c4-4fb9-9e8f-4dd81e0c4fb0"
      },
      "execution_count": null,
      "outputs": [
        {
          "output_type": "stream",
          "name": "stdout",
          "text": [
            "[1, 4, 9, 16, 25, 36, 49, 64, 81, 100]\n"
          ]
        }
      ]
    },
    {
      "cell_type": "markdown",
      "source": [
        "\n",
        "## 11. LENGTH OF A LIST\n"
      ],
      "metadata": {
        "id": "tERwtcScaCxj"
      }
    },
    {
      "cell_type": "code",
      "source": [
        "print(len(sq_numList))"
      ],
      "metadata": {
        "colab": {
          "base_uri": "https://localhost:8080/"
        },
        "id": "cU4o5yG8KPte",
        "outputId": "7d6ddc92-f122-4612-b35d-d607a0b508cd"
      },
      "execution_count": null,
      "outputs": [
        {
          "output_type": "stream",
          "name": "stdout",
          "text": [
            "10\n"
          ]
        }
      ]
    },
    {
      "cell_type": "markdown",
      "source": [
        "## 12. ITERATING THROUGH LIST"
      ],
      "metadata": {
        "id": "e4LNLsT_aLgU"
      }
    },
    {
      "cell_type": "code",
      "source": [
        "for x in sq_numList:\n",
        "    print(x, end='\\t')"
      ],
      "metadata": {
        "colab": {
          "base_uri": "https://localhost:8080/"
        },
        "id": "xrDd5iWuKKRI",
        "outputId": "e88f6612-a742-48b2-c5af-60089eebd922"
      },
      "execution_count": null,
      "outputs": [
        {
          "output_type": "stream",
          "name": "stdout",
          "text": [
            "1\t4\t9\t16\t25\t36\t49\t64\t81\t100\t"
          ]
        }
      ]
    },
    {
      "cell_type": "markdown",
      "source": [
        "## 13. COPYING A LIST"
      ],
      "metadata": {
        "id": "bpKfar_uaQ6Y"
      }
    },
    {
      "cell_type": "code",
      "source": [
        "# METHOD 1\n",
        "cpy_list = sq_numList.copy()\n",
        "print(cpy_list)"
      ],
      "metadata": {
        "colab": {
          "base_uri": "https://localhost:8080/"
        },
        "id": "FQj8U2PvKeF7",
        "outputId": "c587dbf2-5b13-42ae-ea5d-a9ad7d81f318"
      },
      "execution_count": null,
      "outputs": [
        {
          "output_type": "stream",
          "name": "stdout",
          "text": [
            "[1, 4, 9, 16, 25, 36, 49, 64, 81, 100]\n"
          ]
        }
      ]
    },
    {
      "cell_type": "code",
      "source": [
        "cpy_list.clear()\n",
        "# METHOD 2\n",
        "cpy_list = sq_numList[:]\n",
        "print(cpy_list)"
      ],
      "metadata": {
        "colab": {
          "base_uri": "https://localhost:8080/"
        },
        "id": "-xBaU8_zKw46",
        "outputId": "64e4d7fb-fdf0-4ea6-e651-b4bfcb85e61f"
      },
      "execution_count": null,
      "outputs": [
        {
          "output_type": "stream",
          "name": "stdout",
          "text": [
            "[1, 4, 9, 16, 25, 36, 49, 64, 81, 100]\n"
          ]
        }
      ]
    },
    {
      "cell_type": "code",
      "source": [
        "# why slicing?\n",
        "cpy_list = sq_numList\n",
        "print(cpy_list) # Output: same as sq_numList"
      ],
      "metadata": {
        "colab": {
          "base_uri": "https://localhost:8080/"
        },
        "id": "dxrhRj-kLBRG",
        "outputId": "c7a0441f-da01-48b2-b828-7475f818103f"
      },
      "execution_count": null,
      "outputs": [
        {
          "output_type": "stream",
          "name": "stdout",
          "text": [
            "[1, 4, 9, 16, 25, 36, 49, 64, 81, 100]\n"
          ]
        }
      ]
    },
    {
      "cell_type": "code",
      "source": [
        "# now lets modify the cpy_list\n",
        "cpy_list.remove(100)\n",
        "print(cpy_list)\n",
        "print(sq_numList)"
      ],
      "metadata": {
        "colab": {
          "base_uri": "https://localhost:8080/"
        },
        "id": "5L3ZvvJxLT1N",
        "outputId": "74cdd3b8-ecc6-4a23-fcfe-882e57c5aef5"
      },
      "execution_count": null,
      "outputs": [
        {
          "output_type": "stream",
          "name": "stdout",
          "text": [
            "[1, 4, 9, 16, 25, 36, 49, 64, 81]\n",
            "[1, 4, 9, 16, 25, 36, 49, 64, 81]\n"
          ]
        }
      ]
    },
    {
      "cell_type": "markdown",
      "source": [
        "It can be observed that along with cpy_list the value of\n",
        "sq_numlist has been altered\n"
      ],
      "metadata": {
        "id": "ygOBsI0oLtsS"
      }
    },
    {
      "cell_type": "markdown",
      "source": [
        "# NESTED LIST\n"
      ],
      "metadata": {
        "id": "jjwOAIyAQT5C"
      }
    },
    {
      "cell_type": "code",
      "source": [
        "matrix = [[1, 2], [3, 4]]\n",
        "print(matrix)"
      ],
      "metadata": {
        "colab": {
          "base_uri": "https://localhost:8080/"
        },
        "id": "sCKX__OgQVtf",
        "outputId": "4f055f2f-3584-40e4-a9ae-259f604f66f3"
      },
      "execution_count": null,
      "outputs": [
        {
          "output_type": "stream",
          "name": "stdout",
          "text": [
            "[[1, 2], [3, 4]]\n"
          ]
        }
      ]
    },
    {
      "cell_type": "code",
      "source": [
        "# Accessing elements\n",
        "print(matrix[0])\n",
        "print(matrix[1][0])"
      ],
      "metadata": {
        "colab": {
          "base_uri": "https://localhost:8080/"
        },
        "id": "TdDWCAhAQkKg",
        "outputId": "e5e9bee9-a775-4ba0-d457-a09a2b73eff6"
      },
      "execution_count": null,
      "outputs": [
        {
          "output_type": "stream",
          "name": "stdout",
          "text": [
            "[1, 2]\n",
            "3\n"
          ]
        }
      ]
    },
    {
      "cell_type": "code",
      "source": [
        "# creating a distorted matrix\n",
        "d_matrix = [[1,2], [3]]\n",
        "print(d_matrix)"
      ],
      "metadata": {
        "colab": {
          "base_uri": "https://localhost:8080/"
        },
        "id": "SsXNHo3hRUV8",
        "outputId": "73c90ceb-6363-426d-e88b-67f6162e735f"
      },
      "execution_count": null,
      "outputs": [
        {
          "output_type": "stream",
          "name": "stdout",
          "text": [
            "[[1, 2], [3]]\n"
          ]
        }
      ]
    },
    {
      "cell_type": "code",
      "source": [
        "print(d_matrix[0])\n",
        "print(d_matrix[1][0])\n",
        "print(d_matrix[1][1]) # It would give IndexError because there is no element at [1][0]"
      ],
      "metadata": {
        "colab": {
          "base_uri": "https://localhost:8080/",
          "height": 216
        },
        "id": "4Ws0t4QhRdqb",
        "outputId": "f6161d93-f6ff-4a5f-9f6a-727271e9882e"
      },
      "execution_count": null,
      "outputs": [
        {
          "output_type": "stream",
          "name": "stdout",
          "text": [
            "[1, 2]\n",
            "3\n"
          ]
        },
        {
          "output_type": "error",
          "ename": "IndexError",
          "evalue": "list index out of range",
          "traceback": [
            "\u001b[0;31m---------------------------------------------------------------------------\u001b[0m",
            "\u001b[0;31mIndexError\u001b[0m                                Traceback (most recent call last)",
            "\u001b[0;32m<ipython-input-18-daf05b9b6ed2>\u001b[0m in \u001b[0;36m<cell line: 3>\u001b[0;34m()\u001b[0m\n\u001b[1;32m      1\u001b[0m \u001b[0mprint\u001b[0m\u001b[0;34m(\u001b[0m\u001b[0md_matrix\u001b[0m\u001b[0;34m[\u001b[0m\u001b[0;36m0\u001b[0m\u001b[0;34m]\u001b[0m\u001b[0;34m)\u001b[0m\u001b[0;34m\u001b[0m\u001b[0;34m\u001b[0m\u001b[0m\n\u001b[1;32m      2\u001b[0m \u001b[0mprint\u001b[0m\u001b[0;34m(\u001b[0m\u001b[0md_matrix\u001b[0m\u001b[0;34m[\u001b[0m\u001b[0;36m1\u001b[0m\u001b[0;34m]\u001b[0m\u001b[0;34m[\u001b[0m\u001b[0;36m0\u001b[0m\u001b[0;34m]\u001b[0m\u001b[0;34m)\u001b[0m\u001b[0;34m\u001b[0m\u001b[0;34m\u001b[0m\u001b[0m\n\u001b[0;32m----> 3\u001b[0;31m \u001b[0mprint\u001b[0m\u001b[0;34m(\u001b[0m\u001b[0md_matrix\u001b[0m\u001b[0;34m[\u001b[0m\u001b[0;36m1\u001b[0m\u001b[0;34m]\u001b[0m\u001b[0;34m[\u001b[0m\u001b[0;36m1\u001b[0m\u001b[0;34m]\u001b[0m\u001b[0;34m)\u001b[0m \u001b[0;31m# It would give IndexError because there is no element at [1][0]\u001b[0m\u001b[0;34m\u001b[0m\u001b[0;34m\u001b[0m\u001b[0m\n\u001b[0m",
            "\u001b[0;31mIndexError\u001b[0m: list index out of range"
          ]
        }
      ]
    },
    {
      "cell_type": "markdown",
      "source": [
        "If there is a nested list by the name, n_list.\n",
        "\n",
        "For any number, i such that 0 <= i < number of lists within the nested list, then the ith list is returned.\n",
        "\n",
        "Now, for a pair of numbers, i and j, such that 0 <= i <= number of lists ithin the nested list and j represents the jth element of the ith list where 0 <= j < number of elements in the ith list"
      ],
      "metadata": {
        "id": "K3biJgWvQyrn"
      }
    },
    {
      "cell_type": "code",
      "source": [
        "# Modifying elements\n",
        "matrix = [[1, 2], [3, 4]]\n",
        "matrix[0] = [2, 3]\n",
        "print(matrix)"
      ],
      "metadata": {
        "colab": {
          "base_uri": "https://localhost:8080/"
        },
        "id": "h9s4CjG4SRjn",
        "outputId": "c43cea0b-f51d-490b-c43e-9d889ff3ca0e"
      },
      "execution_count": null,
      "outputs": [
        {
          "output_type": "stream",
          "name": "stdout",
          "text": [
            "[[2, 3], [3, 4]]\n"
          ]
        }
      ]
    },
    {
      "cell_type": "code",
      "source": [
        "matrix[0][1] = -3\n",
        "print(matrix)"
      ],
      "metadata": {
        "colab": {
          "base_uri": "https://localhost:8080/"
        },
        "id": "cEi9YRsZSmi0",
        "outputId": "67aa8133-0624-4790-92af-c2ab59d88c08"
      },
      "execution_count": null,
      "outputs": [
        {
          "output_type": "stream",
          "name": "stdout",
          "text": [
            "[[2, -3], [3, 4]]\n"
          ]
        }
      ]
    },
    {
      "cell_type": "code",
      "source": [
        "d_matrix[1][1] = 9\n",
        "print(d_matrix)"
      ],
      "metadata": {
        "colab": {
          "base_uri": "https://localhost:8080/",
          "height": 162
        },
        "id": "K-6NAKylSsqf",
        "outputId": "1e9cd4a8-8589-4e2c-8769-1866c9119fb6"
      },
      "execution_count": null,
      "outputs": [
        {
          "output_type": "error",
          "ename": "IndexError",
          "evalue": "list assignment index out of range",
          "traceback": [
            "\u001b[0;31m---------------------------------------------------------------------------\u001b[0m",
            "\u001b[0;31mIndexError\u001b[0m                                Traceback (most recent call last)",
            "\u001b[0;32m<ipython-input-21-c5663bea9d45>\u001b[0m in \u001b[0;36m<cell line: 1>\u001b[0;34m()\u001b[0m\n\u001b[0;32m----> 1\u001b[0;31m \u001b[0md_matrix\u001b[0m\u001b[0;34m[\u001b[0m\u001b[0;36m1\u001b[0m\u001b[0;34m]\u001b[0m\u001b[0;34m[\u001b[0m\u001b[0;36m1\u001b[0m\u001b[0;34m]\u001b[0m \u001b[0;34m=\u001b[0m \u001b[0;36m9\u001b[0m\u001b[0;34m\u001b[0m\u001b[0;34m\u001b[0m\u001b[0m\n\u001b[0m\u001b[1;32m      2\u001b[0m \u001b[0mprint\u001b[0m\u001b[0;34m(\u001b[0m\u001b[0md_matrix\u001b[0m\u001b[0;34m)\u001b[0m\u001b[0;34m\u001b[0m\u001b[0;34m\u001b[0m\u001b[0m\n",
            "\u001b[0;31mIndexError\u001b[0m: list assignment index out of range"
          ]
        }
      ]
    },
    {
      "cell_type": "code",
      "source": [
        "# To introduce 9 in d_matix\n",
        "d_matrix[1] = [3, 9]\n",
        "print(d_matrix)"
      ],
      "metadata": {
        "colab": {
          "base_uri": "https://localhost:8080/"
        },
        "id": "Sun6pLblS2P_",
        "outputId": "5e146ac1-2151-4c49-f402-676b5c0f4cc3"
      },
      "execution_count": null,
      "outputs": [
        {
          "output_type": "stream",
          "name": "stdout",
          "text": [
            "[[1, 2], [3, 9]]\n"
          ]
        }
      ]
    },
    {
      "cell_type": "code",
      "source": [
        "# Iterating though nested list\n",
        "for row in matrix:\n",
        "    for col in row:\n",
        "        print(col, end='\\t')\n",
        "    print('\\n')"
      ],
      "metadata": {
        "colab": {
          "base_uri": "https://localhost:8080/"
        },
        "id": "dPEP_cpeTFDF",
        "outputId": "4a98436b-b1be-4100-b62a-3f2eeb47379d"
      },
      "execution_count": null,
      "outputs": [
        {
          "output_type": "stream",
          "name": "stdout",
          "text": [
            "2\t-3\t\n",
            "\n",
            "3\t4\t\n",
            "\n"
          ]
        }
      ]
    }
  ]
}