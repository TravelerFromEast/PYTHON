{
  "nbformat": 4,
  "nbformat_minor": 0,
  "metadata": {
    "colab": {
      "provenance": []
    },
    "kernelspec": {
      "name": "python3",
      "display_name": "Python 3"
    },
    "language_info": {
      "name": "python"
    }
  },
  "cells": [
    {
      "cell_type": "markdown",
      "source": [
        "\n",
        "<h1>1. split( ) METHOD  <br>\n",
        "2. map( ) WITH split( ) METHOD</h1>\n"
      ],
      "metadata": {
        "id": "LSlDDPrUb7Gy"
      }
    },
    {
      "cell_type": "code",
      "execution_count": 4,
      "metadata": {
        "id": "A71sLLTwj1Hl",
        "colab": {
          "base_uri": "https://localhost:8080/"
        },
        "outputId": "e3d50595-874f-44b3-e476-ebd3a07dc21a"
      },
      "outputs": [
        {
          "output_type": "stream",
          "name": "stdout",
          "text": [
            "Enter two values: 2 3\n",
            "Number 1 : 2\n",
            "Number 2 : 3\n"
          ]
        }
      ],
      "source": [
        "# 1. USING split( ) METHOD\n",
        "x, y = input(\"Enter two values: \").split() # DON'T PRESS ENTER, PRESS SPACE BAR\n",
        "# HERE, SPACE ACTS AS A SEPERATOR\n",
        "print(f\"Number 1 : {x}\")\n",
        "print(f\"Number 2 : {y}\")"
      ]
    },
    {
      "cell_type": "code",
      "source": [
        "x, y = input(\"Enter two values: \").split(\",\")\n",
        "# HERE, COMMA ACTS AS A SEPERATOR\n",
        "print(f\"Number 1 : {x}\")\n",
        "print(f\"Number 2 : {y}\")"
      ],
      "metadata": {
        "colab": {
          "base_uri": "https://localhost:8080/"
        },
        "id": "CltN4KKVgWPl",
        "outputId": "d566e74c-ad5d-4e89-80a9-0212123f8d4f"
      },
      "execution_count": 14,
      "outputs": [
        {
          "output_type": "stream",
          "name": "stdout",
          "text": [
            "Enter two values: 1,2\n",
            "Number 1 : 1\n",
            "Number 2 : 2\n"
          ]
        }
      ]
    },
    {
      "cell_type": "code",
      "source": [
        "# 2. USING map() WITH split( ) METHOD\n",
        "x, y = map(int, input(\"Enter two values: \").split())\n",
        "print(\"Number 1: {} \\nNumber 2: {}\".format(x, y))\n",
        "print(\"Sum : \",x + y)\n",
        "print(\"Difference : \",x - y)\n",
        "print(\"Quotient : \",x / y)\n",
        "print(\"Quotiet of Integral divsion : \",x // y)\n",
        "print(\"Product : \",x * y)\n",
        "print(\"Power : \",x ** y)\n",
        "print(\"Remainder : \",x % y)"
      ],
      "metadata": {
        "colab": {
          "base_uri": "https://localhost:8080/"
        },
        "id": "CiOE5ot-diy9",
        "outputId": "8685caa3-b232-445b-d691-b5e3a8b5faa1"
      },
      "execution_count": 10,
      "outputs": [
        {
          "output_type": "stream",
          "name": "stdout",
          "text": [
            "Enter two values: 4 3\n",
            "Number 1: 4 \n",
            "Number 2: 3\n",
            "Sum :  7\n",
            "Difference :  1\n",
            "Quotient :  1.3333333333333333\n",
            "Quotiet of Integral divsion :  1\n",
            "Product :  12\n",
            "Power :  64\n",
            "Remainder :  1\n"
          ]
        }
      ]
    },
    {
      "cell_type": "markdown",
      "source": [
        "split( ) breaks down strings into substrings or characters **based on the specified seperator**. Here the seperator is space.\n",
        "\n",
        "map( ) converts the substrings or character intoo the desired datatype, here 'int' (for integer)"
      ],
      "metadata": {
        "id": "MEDWoiFufDBV"
      }
    },
    {
      "cell_type": "code",
      "source": [
        "arr1 = list(input(\"Enter multiple values: \").split(\",\"))\n",
        "print(arr1)"
      ],
      "metadata": {
        "colab": {
          "base_uri": "https://localhost:8080/"
        },
        "id": "lTOOpoD8fjfv",
        "outputId": "dd0b5327-287c-4529-c051-5a9f15372a92"
      },
      "execution_count": 15,
      "outputs": [
        {
          "output_type": "stream",
          "name": "stdout",
          "text": [
            "Enter multiple values: 1,2,3,4\n",
            "['1', '2', '3', '4']\n"
          ]
        }
      ]
    },
    {
      "cell_type": "code",
      "source": [
        "arr1.clear()\n",
        "arr1 = list(map(int, input(\"Enter multiple values: \").split()))\n",
        "print(arr1)"
      ],
      "metadata": {
        "colab": {
          "base_uri": "https://localhost:8080/"
        },
        "id": "X_z0g7yChdb1",
        "outputId": "a35f9b72-5ac9-48bc-aa68-b184f3c52a78"
      },
      "execution_count": 16,
      "outputs": [
        {
          "output_type": "stream",
          "name": "stdout",
          "text": [
            "Enter multiple values: 1 2 3 4 5\n",
            "[1, 2, 3, 4, 5]\n"
          ]
        }
      ]
    }
  ]
}