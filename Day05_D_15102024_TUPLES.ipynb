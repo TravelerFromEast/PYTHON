{
  "nbformat": 4,
  "nbformat_minor": 0,
  "metadata": {
    "colab": {
      "provenance": []
    },
    "kernelspec": {
      "name": "python3",
      "display_name": "Python 3"
    },
    "language_info": {
      "name": "python"
    }
  },
  "cells": [
    {
      "cell_type": "markdown",
      "source": [
        "# TUPLES\n",
        "\n",
        "## CREATING A TUPLE"
      ],
      "metadata": {
        "id": "ckjgG0xSfLNG"
      }
    },
    {
      "cell_type": "code",
      "execution_count": null,
      "metadata": {
        "id": "_luFQ9MpbweB",
        "colab": {
          "base_uri": "https://localhost:8080/"
        },
        "outputId": "c88d46b0-a6d5-45cb-e33b-64148c9684ca"
      },
      "outputs": [
        {
          "output_type": "stream",
          "name": "stdout",
          "text": [
            "(1, 2, 3, 4)\n"
          ]
        }
      ],
      "source": [
        "# METHOD 1\n",
        "my_tuple = (1, 2, 3, 4)\n",
        "print(my_tuple)"
      ]
    },
    {
      "cell_type": "code",
      "source": [
        "# METHOD 2\n",
        "# USING tuple( ) FINCTION\n",
        "my_list  = [1, 2, 3, 4]\n",
        "my_tuple = tuple(my_list)\n",
        "print(my_tuple)"
      ],
      "metadata": {
        "colab": {
          "base_uri": "https://localhost:8080/"
        },
        "id": "8GUbsLW8iKHa",
        "outputId": "5d8ec143-78ac-400f-feb4-2bbc382ebee3"
      },
      "execution_count": null,
      "outputs": [
        {
          "output_type": "stream",
          "name": "stdout",
          "text": [
            "(1, 2, 3, 4)\n"
          ]
        }
      ]
    },
    {
      "cell_type": "code",
      "source": [
        "# METHOD 3\n",
        "# This method is called 'Tuple Packing'\n",
        "my_tuple = 1, 2, 3\n",
        "print(my_tuple)"
      ],
      "metadata": {
        "colab": {
          "base_uri": "https://localhost:8080/"
        },
        "id": "7ldZFT05ihuk",
        "outputId": "0cd3e72a-57ac-4743-e372-3c0def43153e"
      },
      "execution_count": null,
      "outputs": [
        {
          "output_type": "stream",
          "name": "stdout",
          "text": [
            "(1, 2, 3)\n"
          ]
        }
      ]
    },
    {
      "cell_type": "markdown",
      "source": [
        "#### CREATING A SINGLE ELEMENT TUPLE"
      ],
      "metadata": {
        "id": "1DBs9Iz3iwgL"
      }
    },
    {
      "cell_type": "code",
      "source": [
        "my_tuple = 1 ,\n",
        "print(my_tuple)"
      ],
      "metadata": {
        "colab": {
          "base_uri": "https://localhost:8080/"
        },
        "id": "W2UEu9UEivw0",
        "outputId": "c86f79d0-be4f-4142-c615-6829253ffa6c"
      },
      "execution_count": null,
      "outputs": [
        {
          "output_type": "stream",
          "name": "stdout",
          "text": [
            "(1,)\n"
          ]
        }
      ]
    },
    {
      "cell_type": "markdown",
      "source": [
        "## ACCESSING AN ELEMENT"
      ],
      "metadata": {
        "id": "f4r406spi-e-"
      }
    },
    {
      "cell_type": "code",
      "source": [
        "my_tuple = 1, 2, 3, 4\n",
        "print(my_tuple[0])"
      ],
      "metadata": {
        "colab": {
          "base_uri": "https://localhost:8080/"
        },
        "id": "9NxV3Rg4i-EA",
        "outputId": "094afda3-bb70-4a5c-cce1-3b3d8d67243b"
      },
      "execution_count": null,
      "outputs": [
        {
          "output_type": "stream",
          "name": "stdout",
          "text": [
            "1\n"
          ]
        }
      ]
    },
    {
      "cell_type": "markdown",
      "source": [
        "## SLICING A TUPLE"
      ],
      "metadata": {
        "id": "l9n5k4wByQTo"
      }
    },
    {
      "cell_type": "code",
      "source": [
        "print(my_tuple[2:4]) # 4the element is excluded"
      ],
      "metadata": {
        "colab": {
          "base_uri": "https://localhost:8080/"
        },
        "id": "NUKkgjYIySX8",
        "outputId": "57ae6737-c163-45b9-d581-95fde2996613"
      },
      "execution_count": null,
      "outputs": [
        {
          "output_type": "stream",
          "name": "stdout",
          "text": [
            "(3, 4)\n"
          ]
        }
      ]
    },
    {
      "cell_type": "markdown",
      "source": [
        "## TUPLE OPERATIONS"
      ],
      "metadata": {
        "id": "z1nRBDbzyuhU"
      }
    },
    {
      "cell_type": "code",
      "source": [
        "tuple_A = 1, 2, 3, 4\n",
        "tuple_B = 3, 4, 5, 6"
      ],
      "metadata": {
        "id": "MfLRsO_pyw-Q"
      },
      "execution_count": null,
      "outputs": []
    },
    {
      "cell_type": "markdown",
      "source": [
        "### 1. CONCATENATION"
      ],
      "metadata": {
        "id": "RLpongziy3IF"
      }
    },
    {
      "cell_type": "code",
      "source": [
        "merged_tuple = tuple_A + tuple_B\n",
        "print(merged_tuple)"
      ],
      "metadata": {
        "colab": {
          "base_uri": "https://localhost:8080/"
        },
        "id": "vdFYFqiCy6LV",
        "outputId": "2ba61621-aec1-4201-adff-10b4740de546"
      },
      "execution_count": null,
      "outputs": [
        {
          "output_type": "stream",
          "name": "stdout",
          "text": [
            "(1, 2, 3, 4, 3, 4, 5, 6)\n"
          ]
        }
      ]
    },
    {
      "cell_type": "markdown",
      "source": [
        "### 2. REPETITION"
      ],
      "metadata": {
        "id": "AMv_l77JzGbA"
      }
    },
    {
      "cell_type": "code",
      "source": [
        "num = int(input(\"Enter the number of repetition: \"))\n",
        "print(my_tuple*num)"
      ],
      "metadata": {
        "colab": {
          "base_uri": "https://localhost:8080/"
        },
        "id": "T3b1eFs8zL5y",
        "outputId": "d6ee0938-fbcd-4da0-ac74-ce858167c6ee"
      },
      "execution_count": null,
      "outputs": [
        {
          "output_type": "stream",
          "name": "stdout",
          "text": [
            "Enter the number of repetition: 3\n",
            "(1, 2, 3, 4, 1, 2, 3, 4, 1, 2, 3, 4)\n"
          ]
        }
      ]
    },
    {
      "cell_type": "markdown",
      "source": [
        "### 3. LENGTH OF A TUPLE"
      ],
      "metadata": {
        "id": "5O9DlbiZzhdb"
      }
    },
    {
      "cell_type": "code",
      "source": [
        "print(len(my_tuple))"
      ],
      "metadata": {
        "colab": {
          "base_uri": "https://localhost:8080/"
        },
        "id": "9jA1k1Zpznn_",
        "outputId": "58beff99-2978-49b4-fe9d-bcc3e548fbe2"
      },
      "execution_count": null,
      "outputs": [
        {
          "output_type": "stream",
          "name": "stdout",
          "text": [
            "4\n"
          ]
        }
      ]
    },
    {
      "cell_type": "markdown",
      "source": [
        "### 4. TO DETERMINE THE FREQUENCY / NUMBER OF OCCURENCES OF AN ELEMENT IN A TUPLE"
      ],
      "metadata": {
        "id": "6svzZ4YazsLu"
      }
    },
    {
      "cell_type": "code",
      "source": [
        "print(my_tuple.count(2))\n",
        "print(my_tuple.count(8))"
      ],
      "metadata": {
        "colab": {
          "base_uri": "https://localhost:8080/"
        },
        "id": "uwsFMncez3C-",
        "outputId": "6b06bc05-1275-4981-c26d-83b1f47fb41b"
      },
      "execution_count": null,
      "outputs": [
        {
          "output_type": "stream",
          "name": "stdout",
          "text": [
            "1\n",
            "0\n"
          ]
        }
      ]
    },
    {
      "cell_type": "markdown",
      "source": [
        "### 5. UNPACKING A TUPLE"
      ],
      "metadata": {
        "id": "ypy8_jsy0Ii5"
      }
    },
    {
      "cell_type": "code",
      "source": [
        "a = my_tuple\n",
        "print(a)\n",
        "a, b = my_tuple\n",
        "print(a, b) # Output; ValueError"
      ],
      "metadata": {
        "colab": {
          "base_uri": "https://localhost:8080/",
          "height": 216
        },
        "id": "VwnI4FOB0Boz",
        "outputId": "3341ac34-2d57-40a2-fcfd-4d301c8bd666"
      },
      "execution_count": null,
      "outputs": [
        {
          "output_type": "stream",
          "name": "stdout",
          "text": [
            "(1, 2, 3, 4)\n"
          ]
        },
        {
          "output_type": "error",
          "ename": "ValueError",
          "evalue": "too many values to unpack (expected 2)",
          "traceback": [
            "\u001b[0;31m---------------------------------------------------------------------------\u001b[0m",
            "\u001b[0;31mValueError\u001b[0m                                Traceback (most recent call last)",
            "\u001b[0;32m<ipython-input-17-822a4d6d8937>\u001b[0m in \u001b[0;36m<cell line: 3>\u001b[0;34m()\u001b[0m\n\u001b[1;32m      1\u001b[0m \u001b[0ma\u001b[0m \u001b[0;34m=\u001b[0m \u001b[0mmy_tuple\u001b[0m\u001b[0;34m\u001b[0m\u001b[0;34m\u001b[0m\u001b[0m\n\u001b[1;32m      2\u001b[0m \u001b[0mprint\u001b[0m\u001b[0;34m(\u001b[0m\u001b[0ma\u001b[0m\u001b[0;34m)\u001b[0m\u001b[0;34m\u001b[0m\u001b[0;34m\u001b[0m\u001b[0m\n\u001b[0;32m----> 3\u001b[0;31m \u001b[0ma\u001b[0m\u001b[0;34m,\u001b[0m \u001b[0mb\u001b[0m \u001b[0;34m=\u001b[0m \u001b[0mmy_tuple\u001b[0m\u001b[0;34m\u001b[0m\u001b[0;34m\u001b[0m\u001b[0m\n\u001b[0m\u001b[1;32m      4\u001b[0m \u001b[0mprint\u001b[0m\u001b[0;34m(\u001b[0m\u001b[0ma\u001b[0m\u001b[0;34m,\u001b[0m \u001b[0mb\u001b[0m\u001b[0;34m)\u001b[0m\u001b[0;34m\u001b[0m\u001b[0;34m\u001b[0m\u001b[0m\n",
            "\u001b[0;31mValueError\u001b[0m: too many values to unpack (expected 2)"
          ]
        }
      ]
    },
    {
      "cell_type": "markdown",
      "source": [
        "To unpack it is must to introduce n number of variables if number of elements in the tuple is n."
      ],
      "metadata": {
        "id": "XvPD7ZSy0YxG"
      }
    },
    {
      "cell_type": "code",
      "source": [
        "a, b, c, d = my_tuple\n",
        "print(a, b, c, d)"
      ],
      "metadata": {
        "colab": {
          "base_uri": "https://localhost:8080/"
        },
        "id": "vXNbesKG0WnI",
        "outputId": "cb54c213-c020-49a6-cdf9-ae7455570ae0"
      },
      "execution_count": null,
      "outputs": [
        {
          "output_type": "stream",
          "name": "stdout",
          "text": [
            "1 2 3 4\n"
          ]
        }
      ]
    },
    {
      "cell_type": "markdown",
      "source": [
        "## ALLOWS DUPLICATES?"
      ],
      "metadata": {
        "id": "k0KhJXKn0xrT"
      }
    },
    {
      "cell_type": "code",
      "source": [
        "my_tuple = 1, 2, 2, 3, 1, 4, 5, 2\n",
        "print(my_tuple)"
      ],
      "metadata": {
        "colab": {
          "base_uri": "https://localhost:8080/"
        },
        "id": "nIRyq-SX00pz",
        "outputId": "75e9f04b-987f-408b-f41e-479e97d569bb"
      },
      "execution_count": null,
      "outputs": [
        {
          "output_type": "stream",
          "name": "stdout",
          "text": [
            "(1, 2, 2, 3, 1, 4, 5, 2)\n"
          ]
        }
      ]
    },
    {
      "cell_type": "markdown",
      "source": [
        "YEAH, IT DOES!"
      ],
      "metadata": {
        "id": "BZSzYzlx06q1"
      }
    },
    {
      "cell_type": "markdown",
      "source": [
        "## HETEROGENITY"
      ],
      "metadata": {
        "id": "YK0TRJxF0-Ev"
      }
    },
    {
      "cell_type": "code",
      "source": [
        "my_tuple = 1, \"Adwith\", True, 2.4, -1, -8.34\n",
        "print(my_tuple)"
      ],
      "metadata": {
        "colab": {
          "base_uri": "https://localhost:8080/"
        },
        "id": "v7_wzO5d1BwQ",
        "outputId": "5fce495d-7977-4cd9-9814-7e2b3742ac5f"
      },
      "execution_count": null,
      "outputs": [
        {
          "output_type": "stream",
          "name": "stdout",
          "text": [
            "(1, 'Adwith', True, 2.4, -1, -8.34)\n"
          ]
        }
      ]
    }
  ]
}