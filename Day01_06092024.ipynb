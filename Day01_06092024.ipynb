{
  "nbformat": 4,
  "nbformat_minor": 0,
  "metadata": {
    "colab": {
      "provenance": []
    },
    "kernelspec": {
      "name": "python3",
      "display_name": "Python 3"
    },
    "language_info": {
      "name": "python"
    }
  },
  "cells": [
    {
      "cell_type": "markdown",
      "source": [
        "# COMMENT"
      ],
      "metadata": {
        "id": "JxR7-H15OGgR"
      }
    },
    {
      "cell_type": "markdown",
      "source": [
        "Comments - are not part of program, they are only for labelling"
      ],
      "metadata": {
        "id": "1sXkA93bOPZR"
      }
    },
    {
      "cell_type": "code",
      "source": [
        "# This is a comment."
      ],
      "metadata": {
        "id": "o0lmI8Ek1_4e"
      },
      "execution_count": null,
      "outputs": []
    },
    {
      "cell_type": "markdown",
      "source": [
        ".py - extension for python (for offline python softwares)\n",
        "\n",
        ".ipynb - extension for interactive python notebook (for online python softwares)"
      ],
      "metadata": {
        "id": "BDp5XX1eNx2R"
      }
    },
    {
      "cell_type": "code",
      "source": [
        "# This is a cell."
      ],
      "metadata": {
        "id": "AMKoZBVv6vWQ"
      },
      "execution_count": null,
      "outputs": []
    },
    {
      "cell_type": "markdown",
      "source": [
        "To execute/run the cell - shift + enter, alt + enter, ctrl + enter\n",
        "\n",
        "Number present on the left hand side of the cell within square bracket indicates that the cell is executed. And if n >= 1, then it means cell is executed n times.\n",
        "\n",
        "Now, if n = 0 which can be justified by the empty bracket\n",
        "\n",
        "\n",
        "'[  ]' -> the cell is not at all exected."
      ],
      "metadata": {
        "id": "qU5yVGQRN4-c"
      }
    },
    {
      "cell_type": "markdown",
      "source": [
        "# PYTHON BASICS"
      ],
      "metadata": {
        "id": "fL_UG9qIOHwE"
      }
    },
    {
      "cell_type": "markdown",
      "source": [
        "## print(  ) FUNCTION"
      ],
      "metadata": {
        "id": "mGJtKJONOfjL"
      }
    },
    {
      "cell_type": "code",
      "source": [
        "print()"
      ],
      "metadata": {
        "id": "isLoGYA27UMg",
        "outputId": "9698cc05-bd1f-4bb7-f0ca-a395e29b307c",
        "colab": {
          "base_uri": "https://localhost:8080/"
        }
      },
      "execution_count": null,
      "outputs": [
        {
          "output_type": "stream",
          "name": "stdout",
          "text": [
            "\n"
          ]
        }
      ]
    },
    {
      "cell_type": "markdown",
      "source": [
        "#### There is no argument hence there will be no output."
      ],
      "metadata": {
        "id": "4-tFzQXKOq9W"
      }
    },
    {
      "cell_type": "code",
      "source": [
        "# Hello World\n",
        "print(\"Hello World\")"
      ],
      "metadata": {
        "colab": {
          "base_uri": "https://localhost:8080/"
        },
        "id": "3B7XojGy8JcX",
        "outputId": "edbca23e-037d-4f75-c139-680b61e2b750"
      },
      "execution_count": null,
      "outputs": [
        {
          "output_type": "stream",
          "name": "stdout",
          "text": [
            "Hello World\n"
          ]
        }
      ]
    },
    {
      "cell_type": "code",
      "source": [
        "print('Hello World')"
      ],
      "metadata": {
        "colab": {
          "base_uri": "https://localhost:8080/"
        },
        "id": "H07h542E8Yfv",
        "outputId": "d6521f66-7efb-4eb6-90da-c9abab998b5d"
      },
      "execution_count": null,
      "outputs": [
        {
          "metadata": {
            "tags": null
          },
          "name": "stdout",
          "output_type": "stream",
          "text": [
            "Hello World\n"
          ]
        }
      ]
    },
    {
      "cell_type": "markdown",
      "source": [
        "Whatever is mentioned within single or double quotation marks, it is a string"
      ],
      "metadata": {
        "id": "lURqaxKCOKfj"
      }
    },
    {
      "cell_type": "markdown",
      "source": [
        "## VARIABLE"
      ],
      "metadata": {
        "id": "W1gJxSxDO0X5"
      }
    },
    {
      "cell_type": "code",
      "source": [
        "a = 25\n",
        "print(a)"
      ],
      "metadata": {
        "colab": {
          "base_uri": "https://localhost:8080/"
        },
        "id": "aig6jkuT8oT5",
        "outputId": "56a130f6-2b87-461c-df66-04f66704ab9a"
      },
      "execution_count": null,
      "outputs": [
        {
          "output_type": "stream",
          "name": "stdout",
          "text": [
            "25\n"
          ]
        }
      ]
    },
    {
      "cell_type": "markdown",
      "source": [
        "Rather than using print() function, in ipynb platform if we just type a and execute the cell the result will be same as above."
      ],
      "metadata": {
        "id": "a_LpG4fAOPDu"
      }
    },
    {
      "cell_type": "code",
      "source": [
        "a"
      ],
      "metadata": {
        "colab": {
          "base_uri": "https://localhost:8080/"
        },
        "id": "2r5meBzn8vkh",
        "outputId": "a2e6b581-df00-4540-a730-16439eb53863"
      },
      "execution_count": null,
      "outputs": [
        {
          "output_type": "execute_result",
          "data": {
            "text/plain": [
              "25"
            ]
          },
          "metadata": {},
          "execution_count": 7
        }
      ]
    },
    {
      "cell_type": "markdown",
      "source": [
        "## type(  ) FUNCTION\n",
        "\n",
        "To check the datatype of the variable"
      ],
      "metadata": {
        "id": "oPL9Vg44PEOQ"
      }
    },
    {
      "cell_type": "code",
      "source": [
        "type(a)"
      ],
      "metadata": {
        "colab": {
          "base_uri": "https://localhost:8080/"
        },
        "id": "yzgwsX969Ip_",
        "outputId": "86a20839-e6c5-43c7-8a2f-09f5b7c47d47"
      },
      "execution_count": null,
      "outputs": [
        {
          "data": {
            "text/plain": [
              "int"
            ]
          },
          "execution_count": 8,
          "metadata": {},
          "output_type": "execute_result"
        }
      ]
    },
    {
      "cell_type": "code",
      "source": [
        "b = 2.0\n",
        "type(b)"
      ],
      "metadata": {
        "id": "xg2LfypaZImr"
      },
      "execution_count": null,
      "outputs": []
    },
    {
      "cell_type": "code",
      "source": [
        "c = True\n",
        "type(c)"
      ],
      "metadata": {
        "colab": {
          "base_uri": "https://localhost:8080/"
        },
        "id": "vClCmO7HZBdH",
        "outputId": "0e766553-19e7-4f95-ff9c-670b0475f0dc"
      },
      "execution_count": null,
      "outputs": [
        {
          "output_type": "execute_result",
          "data": {
            "text/plain": [
              "bool"
            ]
          },
          "metadata": {},
          "execution_count": 13
        }
      ]
    },
    {
      "cell_type": "code",
      "source": [
        "d = \"Hello World\"\n",
        "type(d)"
      ],
      "metadata": {
        "colab": {
          "base_uri": "https://localhost:8080/"
        },
        "id": "NgHmZcWAZDZ-",
        "outputId": "cd6e9261-3800-444e-d842-1b020eebe21b"
      },
      "execution_count": null,
      "outputs": [
        {
          "output_type": "execute_result",
          "data": {
            "text/plain": [
              "str"
            ]
          },
          "metadata": {},
          "execution_count": 14
        }
      ]
    },
    {
      "cell_type": "code",
      "source": [
        "e = 's'\n",
        "type(e)"
      ],
      "metadata": {
        "colab": {
          "base_uri": "https://localhost:8080/"
        },
        "id": "Zd6Cn2EMZFIR",
        "outputId": "376936ad-4a7d-4ce2-8b23-3cff86030ff9"
      },
      "execution_count": null,
      "outputs": [
        {
          "output_type": "execute_result",
          "data": {
            "text/plain": [
              "str"
            ]
          },
          "metadata": {},
          "execution_count": 15
        }
      ]
    },
    {
      "cell_type": "markdown",
      "source": [
        "In python there is no 'char' datatype."
      ],
      "metadata": {
        "id": "dlJ5Udw5OUVg"
      }
    },
    {
      "cell_type": "code",
      "source": [
        "# Printing values contained in the variables mentioned above\n",
        "# METHOD 1\n",
        "a\n",
        "b\n",
        "c\n",
        "d\n",
        "e"
      ],
      "metadata": {
        "colab": {
          "base_uri": "https://localhost:8080/",
          "height": 35
        },
        "id": "HekHI31Q9uo-",
        "outputId": "b5b8e37f-a5dc-433f-db0f-7b279feed458"
      },
      "execution_count": null,
      "outputs": [
        {
          "data": {
            "application/vnd.google.colaboratory.intrinsic+json": {
              "type": "string"
            },
            "text/plain": [
              "'s'"
            ]
          },
          "execution_count": 10,
          "metadata": {},
          "output_type": "execute_result"
        }
      ]
    },
    {
      "cell_type": "code",
      "source": [
        "# In METHOD 1, it can observed that only the value contained in variable 'e'\n",
        "# is only diaplayed.\n",
        "# Therefore, either we have to put the variables in individual cells and execute\n",
        "# each cell or adopt METHOD 2.\n",
        "# METHOD 2\n",
        "print(a)\n",
        "print(b)\n",
        "print(c)\n",
        "print(d)\n",
        "print(e)"
      ],
      "metadata": {
        "colab": {
          "base_uri": "https://localhost:8080/"
        },
        "id": "xFWiJ38r9_0v",
        "outputId": "42652a3e-c140-41fd-a5d7-eb97a4a0fdfc"
      },
      "execution_count": null,
      "outputs": [
        {
          "metadata": {
            "tags": null
          },
          "name": "stdout",
          "output_type": "stream",
          "text": [
            "25\n",
            "2.0\n",
            "True\n",
            "Hello World\n",
            "s\n"
          ]
        }
      ]
    },
    {
      "cell_type": "code",
      "source": [
        "# to print in one line\n",
        "print(a, b, c, d, e)"
      ],
      "metadata": {
        "colab": {
          "base_uri": "https://localhost:8080/"
        },
        "id": "iwo2XxHH-JZ3",
        "outputId": "b74fb62d-9b97-4ed6-9069-183c3cc05f11"
      },
      "execution_count": null,
      "outputs": [
        {
          "metadata": {
            "tags": null
          },
          "name": "stdout",
          "output_type": "stream",
          "text": [
            "25 2.0 True Hello World s\n"
          ]
        }
      ]
    },
    {
      "cell_type": "code",
      "source": [
        "# To print single quotation marks\n",
        "print(\"' '\")\n",
        "print(\"\\' \\'\")"
      ],
      "metadata": {
        "id": "5_aq4v2NaJoe",
        "colab": {
          "base_uri": "https://localhost:8080/"
        },
        "outputId": "8cf14000-a76e-4c8c-d01d-7ee3a8b8c39e"
      },
      "execution_count": null,
      "outputs": [
        {
          "output_type": "stream",
          "name": "stdout",
          "text": [
            "' '\n",
            "' '\n"
          ]
        }
      ]
    },
    {
      "cell_type": "code",
      "source": [
        "# To print double quotation marks\n",
        "print('\" \"')\n",
        "print(\"\\\" \\\"\")"
      ],
      "metadata": {
        "colab": {
          "base_uri": "https://localhost:8080/"
        },
        "id": "u4Pn2qICE9fR",
        "outputId": "93be4d22-2724-48d4-8f5b-f573192f01c0"
      },
      "execution_count": null,
      "outputs": [
        {
          "output_type": "stream",
          "name": "stdout",
          "text": [
            "\" \"\n",
            "\" \"\n"
          ]
        }
      ]
    },
    {
      "cell_type": "markdown",
      "source": [
        "## <u>DYNAMIC NATURE OF PYTHON</u>\n",
        "\n",
        "Python is dynamic in nature. What does it mean?\n",
        "In languages like C, C++, and Java, the data type of a variable must be explicitly declared.\n",
        "This means a variable can only hold values that match its declared type. However, in Python, this is not necessary.\n",
        "Python automatically determines the data type of a variable at runtime based on the value assigned to it.\n",
        "\n",
        "The dynamic nature of Python can be illustrated from some of the above examples."
      ],
      "metadata": {
        "id": "9RueWEGmOZ-e"
      }
    },
    {
      "cell_type": "code",
      "source": [
        "a = 25\n",
        "b = 15"
      ],
      "metadata": {
        "id": "AImDMDQJFyOd"
      },
      "execution_count": null,
      "outputs": []
    },
    {
      "cell_type": "code",
      "source": [
        "a"
      ],
      "metadata": {
        "colab": {
          "base_uri": "https://localhost:8080/"
        },
        "id": "Lcbmkx4AHzxJ",
        "outputId": "001c6ddb-c6cd-4623-fe8e-e6c6d458a5db"
      },
      "execution_count": null,
      "outputs": [
        {
          "output_type": "execute_result",
          "data": {
            "text/plain": [
              "25"
            ]
          },
          "metadata": {},
          "execution_count": 7
        }
      ]
    },
    {
      "cell_type": "code",
      "source": [
        "b"
      ],
      "metadata": {
        "colab": {
          "base_uri": "https://localhost:8080/"
        },
        "id": "IQARpSQ2H4Ax",
        "outputId": "189bf5c4-32ff-4ef1-ffeb-1b4560f35ad1"
      },
      "execution_count": null,
      "outputs": [
        {
          "output_type": "execute_result",
          "data": {
            "text/plain": [
              "15"
            ]
          },
          "metadata": {},
          "execution_count": 8
        }
      ]
    },
    {
      "cell_type": "code",
      "source": [
        "# Calculator\n",
        "# Addition\n",
        "print(a + b)\n",
        "# Subtraction\n",
        "print(a - b)\n",
        "# Multiplication\n",
        "print(a * b)\n",
        "# Division\n",
        "print(a / b)\n",
        "# Floor Division\n",
        "print(a // b)\n",
        "# Modulus\n",
        "print(a % b)\n",
        "# Exponentiation\n",
        "print(a ** b)"
      ],
      "metadata": {
        "colab": {
          "base_uri": "https://localhost:8080/"
        },
        "collapsed": true,
        "id": "r_4jOVupF9-5",
        "outputId": "0c28fc9e-7609-47db-b3b9-ace1ef02f5ef"
      },
      "execution_count": null,
      "outputs": [
        {
          "output_type": "stream",
          "name": "stdout",
          "text": [
            "40\n",
            "10\n",
            "375\n",
            "1.6666666666666667\n",
            "1\n",
            "10\n",
            "931322574615478515625\n"
          ]
        }
      ]
    },
    {
      "cell_type": "markdown",
      "source": [
        "1. a / b returns a float value\n",
        "\n",
        "2. a // b returns an integer value\n",
        "\n",
        "3. a % b returns the remainder which is ofcourse an integer value\n",
        "\n",
        "4. A single-line comment begins with '#' symbol\n",
        "\n",
        "5. To comment out multiple (consecutive) lines\n",
        "    \n",
        "    STEP 1. Select the lines or press CTRL + A\n",
        "    \n",
        "    STEP 2. Press CTRL + /\n",
        "\n",
        "6. A multiline comment is enclosed within ''' ''' or \"\"\" \"\"\""
      ],
      "metadata": {
        "id": "TSNTfSHAOkxm"
      }
    },
    {
      "cell_type": "markdown",
      "source": [
        "# TYPES OF FUNCTIONS IN PYTHON\n",
        "    1. Builtin Function - Predefined, cannot be altered\n",
        "    2. User Defined Fucntion - Function created by user, can be altered"
      ],
      "metadata": {
        "id": "5zjv8iGrOxdT"
      }
    },
    {
      "cell_type": "markdown",
      "source": [
        "## input(  ) FUNCTION\n",
        "\n",
        "Built-in function"
      ],
      "metadata": {
        "id": "Z29iPxtOPzAW"
      }
    },
    {
      "cell_type": "code",
      "source": [
        "a = input(\"Enter your name \")\n",
        "print(a)"
      ],
      "metadata": {
        "colab": {
          "base_uri": "https://localhost:8080/"
        },
        "id": "PyYquIrvcJox",
        "outputId": "b1ccdb86-6b59-4202-ddcd-2b36034504b2"
      },
      "execution_count": null,
      "outputs": [
        {
          "output_type": "stream",
          "name": "stdout",
          "text": [
            "Enter your name Darwin\n",
            "Darwin\n"
          ]
        }
      ]
    },
    {
      "cell_type": "code",
      "source": [
        "type(a)"
      ],
      "metadata": {
        "colab": {
          "base_uri": "https://localhost:8080/"
        },
        "id": "Ppg8t1O-calF",
        "outputId": "5cd992ce-4e1b-4229-bd27-2faa556f4f4d"
      },
      "execution_count": null,
      "outputs": [
        {
          "output_type": "execute_result",
          "data": {
            "text/plain": [
              "str"
            ]
          },
          "metadata": {},
          "execution_count": 3
        }
      ]
    },
    {
      "cell_type": "code",
      "source": [
        "# here, we have used the variable 'a' twice and each time it stored\n",
        "# different value. This is called Overwriting.\n",
        "# Earlier a contained an integer value 25 and now it stores a string.\n",
        "# if I again assign a value of 3.4\n",
        "a = 3.4\n",
        "print(a)"
      ],
      "metadata": {
        "colab": {
          "base_uri": "https://localhost:8080/"
        },
        "id": "TqE8PyWQccCZ",
        "outputId": "d4cb9f58-2232-4b18-936f-9312f0590173"
      },
      "execution_count": null,
      "outputs": [
        {
          "output_type": "stream",
          "name": "stdout",
          "text": [
            "3.4\n"
          ]
        }
      ]
    },
    {
      "cell_type": "code",
      "source": [
        "# The earlier value contained in a will just be overwritten.\n",
        "# hence, now, value contained in a is 3.4 - a float value."
      ],
      "metadata": {
        "id": "f1xCIO9WdYcS"
      },
      "execution_count": null,
      "outputs": []
    },
    {
      "cell_type": "code",
      "source": [
        "# Using input() function, take two numbers as input and calculate their sum and\n",
        "# display it.\n",
        "# METHOD 1\n",
        "a = input(\"Enter a number: \")\n",
        "b = input(\"Enter another number: \")\n",
        "print(\"Sum is: \", int(a)+int(b))"
      ],
      "metadata": {
        "colab": {
          "base_uri": "https://localhost:8080/"
        },
        "id": "miC_UlT5do0g",
        "outputId": "ebf6fdfd-5447-483a-b7a3-e6bc5099c6c0"
      },
      "execution_count": null,
      "outputs": [
        {
          "output_type": "stream",
          "name": "stdout",
          "text": [
            "Enter a number: 34\n",
            "Enter another number: -45\n",
            "Sum is:  -11\n"
          ]
        }
      ]
    },
    {
      "cell_type": "code",
      "source": [
        "#METHOD 2\n",
        "a = int(input(\"Enter a number: \")) # <- this is called typecasting, i.e.\n",
        "                                   #    changing one datatype into other.\n",
        "b = int(input(\"Enter another number: \"))\n",
        "print(\"Sum is: \", a+b)"
      ],
      "metadata": {
        "colab": {
          "base_uri": "https://localhost:8080/"
        },
        "id": "eXVwejXXeCFr",
        "outputId": "0a767503-c416-4baf-cbe8-877e2c60a78f"
      },
      "execution_count": null,
      "outputs": [
        {
          "output_type": "stream",
          "name": "stdout",
          "text": [
            "Enter a number: 23\n",
            "ENter another number: 34\n",
            "Sum is:  57\n"
          ]
        }
      ]
    },
    {
      "cell_type": "markdown",
      "source": [
        "## CONCATENATION\n",
        "\n",
        "Joing two or more strings"
      ],
      "metadata": {
        "id": "ZavrxzqKQa8Q"
      }
    },
    {
      "cell_type": "code",
      "source": [
        "a = \"[a-z]\"\n",
        "b = \"[A-Z]\"\n",
        "print(a+b)"
      ],
      "metadata": {
        "colab": {
          "base_uri": "https://localhost:8080/"
        },
        "id": "Dy3N1UJde1WV",
        "outputId": "65a2a366-0dbf-48bf-d11c-d125fba715ba"
      },
      "execution_count": null,
      "outputs": [
        {
          "output_type": "stream",
          "name": "stdout",
          "text": [
            "[a-z][A-Z]\n"
          ]
        }
      ]
    },
    {
      "cell_type": "code",
      "source": [
        "# W.A.P to calculate the sqaure of a number\n",
        "# METHOD 1\n",
        "a = int(input(\"Enter a number: \"))\n",
        "print(\"Square is: \", a * a)"
      ],
      "metadata": {
        "colab": {
          "base_uri": "https://localhost:8080/"
        },
        "id": "snv7iXzYf0VO",
        "outputId": "abdda7b5-5455-4b55-ccf0-e319f1c7e617"
      },
      "execution_count": null,
      "outputs": [
        {
          "output_type": "stream",
          "name": "stdout",
          "text": [
            "Enter a number: 356\n",
            "Square is:  126736\n"
          ]
        }
      ]
    },
    {
      "cell_type": "code",
      "source": [
        "# METHOD 2\n",
        "a = int(input(\"Enter a number: \"))\n",
        "print(\"Square is: \", a ** 2)"
      ],
      "metadata": {
        "colab": {
          "base_uri": "https://localhost:8080/"
        },
        "id": "GbZYMDb5gHjA",
        "outputId": "ff82372f-f24d-4dbb-bcb3-964261b85da2"
      },
      "execution_count": null,
      "outputs": [
        {
          "output_type": "stream",
          "name": "stdout",
          "text": [
            "Enter a number: 25\n",
            "Square is:  625\n"
          ]
        }
      ]
    },
    {
      "cell_type": "code",
      "source": [
        "# Method 3\n",
        "a = int(input(\"Enter a number: \"))\n",
        "print(\"Square is: \", pow(a, 2))"
      ],
      "metadata": {
        "colab": {
          "base_uri": "https://localhost:8080/"
        },
        "id": "Bm_FzxNYgT6G",
        "outputId": "edba36d2-1eb9-41cf-9832-b7278d7b8ff7"
      },
      "execution_count": null,
      "outputs": [
        {
          "output_type": "stream",
          "name": "stdout",
          "text": [
            "Enter a number: 25\n",
            "Square is:  625\n"
          ]
        }
      ]
    },
    {
      "cell_type": "code",
      "source": [
        "# Formatted String\n",
        "a = int(input(\"Enter a number: \"))\n",
        "print(f\"Square of {a} is: \", pow(a, 2))"
      ],
      "metadata": {
        "colab": {
          "base_uri": "https://localhost:8080/"
        },
        "id": "a8MvXu2mgca1",
        "outputId": "d8561f1e-60a2-405b-a25b-31c3fad219fc"
      },
      "execution_count": null,
      "outputs": [
        {
          "output_type": "stream",
          "name": "stdout",
          "text": [
            "Enter a number: 34\n",
            "Square of 34 is:  1156\n"
          ]
        }
      ]
    },
    {
      "cell_type": "markdown",
      "source": [
        "# STRINGS\n",
        "\n",
        "Sequence of characters either enclosed in single or double quotation marks."
      ],
      "metadata": {
        "id": "ysDsKaIeQme5"
      }
    },
    {
      "cell_type": "code",
      "source": [
        "a = \"WELCOME TO INCREDIBLE INDIA\"\n",
        "print(a)\n",
        "type(a)"
      ],
      "metadata": {
        "id": "Dj5l3lp4hO3o",
        "colab": {
          "base_uri": "https://localhost:8080/"
        },
        "outputId": "04ac343b-9ce4-4fe6-8016-63ea1b8d0dce"
      },
      "execution_count": null,
      "outputs": [
        {
          "output_type": "stream",
          "name": "stdout",
          "text": [
            "WELCOME TO INCREDIBLE INDIA\n"
          ]
        },
        {
          "output_type": "execute_result",
          "data": {
            "text/plain": [
              "str"
            ]
          },
          "metadata": {},
          "execution_count": 7
        }
      ]
    },
    {
      "cell_type": "code",
      "source": [
        "# All the elements in a string has its own unique index numbver.\n",
        "# Index starts from 0.\n",
        "# Index of W = 0\n",
        "# Index of (1st) T = 8\n",
        "# Space in the string also has an unique index.\n",
        "print(a[0])\n",
        "print(a[8])\n",
        "print(a[7])"
      ],
      "metadata": {
        "colab": {
          "base_uri": "https://localhost:8080/"
        },
        "id": "-Vm9iXhYjFdW",
        "outputId": "b9c69a7a-bb69-4646-e05b-1e40e222afa3"
      },
      "execution_count": null,
      "outputs": [
        {
          "output_type": "stream",
          "name": "stdout",
          "text": [
            "W\n",
            "T\n",
            " \n"
          ]
        }
      ]
    },
    {
      "cell_type": "code",
      "source": [
        "# a[7] = space between 'E' and 'T' of substrings 'WELCOME' and 'TO'\n",
        "# respectively\n",
        "\n",
        "# Negative indexing\n",
        "# Index of last element of the string is -1.\n",
        "print(a[-1])"
      ],
      "metadata": {
        "colab": {
          "base_uri": "https://localhost:8080/"
        },
        "id": "MhlvmQWOj1mn",
        "outputId": "06d9de0e-bc48-4a3d-ae82-0e97799a4f8c"
      },
      "execution_count": null,
      "outputs": [
        {
          "output_type": "stream",
          "name": "stdout",
          "text": [
            "A\n"
          ]
        }
      ]
    },
    {
      "cell_type": "markdown",
      "source": [
        "It is better to use, unless required, positive indexing to avoid confusion."
      ],
      "metadata": {
        "id": "QtTACdO1Q-x_"
      }
    },
    {
      "cell_type": "markdown",
      "source": [
        "## SLICING OF A STRING"
      ],
      "metadata": {
        "id": "tTiIBPZ8RFFT"
      }
    },
    {
      "cell_type": "code",
      "source": [
        "# To access a substring - we use slicing\n",
        "# To print the substring \"WELCOME\"\n",
        "# Indices of W and E are 0 and 6\n",
        "print(a[0:7])\n",
        "# ELement at index 7 is exluded."
      ],
      "metadata": {
        "colab": {
          "base_uri": "https://localhost:8080/"
        },
        "id": "DrhQykT1kLSt",
        "outputId": "5b50c1e9-c098-482f-9767-c06524859630"
      },
      "execution_count": null,
      "outputs": [
        {
          "output_type": "stream",
          "name": "stdout",
          "text": [
            "WELCOME\n"
          ]
        }
      ]
    },
    {
      "cell_type": "code",
      "source": [
        "# To access the substring \"INCREDIBLE\"\n",
        "print(a[11:21])"
      ],
      "metadata": {
        "colab": {
          "base_uri": "https://localhost:8080/"
        },
        "id": "zv9gsNJx7PG4",
        "outputId": "634e3fbd-c411-4958-ce03-14ed2b45690a"
      },
      "execution_count": null,
      "outputs": [
        {
          "output_type": "stream",
          "name": "stdout",
          "text": [
            "INCREDIBLE\n"
          ]
        }
      ]
    },
    {
      "cell_type": "code",
      "source": [
        "# To print the whole string using slicing method\n",
        "print(a[0:])\n",
        "print(a[:28])\n",
        "print(a[:])"
      ],
      "metadata": {
        "colab": {
          "base_uri": "https://localhost:8080/"
        },
        "id": "34Juu_H642no",
        "outputId": "fdbd1385-f2ca-473d-e831-bd3802ae302a"
      },
      "execution_count": null,
      "outputs": [
        {
          "output_type": "stream",
          "name": "stdout",
          "text": [
            "WELCOME TO INCREDIBLE INDIA\n",
            "WELCOME TO INCREDIBLE INDIA\n",
            "WELCOME TO INCREDIBLE INDIA\n"
          ]
        }
      ]
    },
    {
      "cell_type": "code",
      "source": [
        "# To print the substring \"INDIA\"\n",
        "print(a[22:28])\n",
        "print(a[22:])"
      ],
      "metadata": {
        "colab": {
          "base_uri": "https://localhost:8080/"
        },
        "id": "nc9GAWnX7NwH",
        "outputId": "24f335a5-4743-47d3-a6eb-dcac8eebe6b7"
      },
      "execution_count": null,
      "outputs": [
        {
          "output_type": "stream",
          "name": "stdout",
          "text": [
            "INDIA\n",
            "INDIA\n"
          ]
        }
      ]
    },
    {
      "cell_type": "code",
      "source": [
        "# To print the first 9 elements of the string\n",
        "print(a[:10])"
      ],
      "metadata": {
        "colab": {
          "base_uri": "https://localhost:8080/"
        },
        "id": "rFHPOD998Qmp",
        "outputId": "e499a92e-ba31-4f14-b5aa-acece644c761"
      },
      "execution_count": null,
      "outputs": [
        {
          "output_type": "stream",
          "name": "stdout",
          "text": [
            "WELCOME TO\n"
          ]
        }
      ]
    },
    {
      "cell_type": "markdown",
      "source": [
        "## CONDITIONAL STATEMENTS\n",
        "\n",
        "### if-else STATEMENTS"
      ],
      "metadata": {
        "id": "tIHnbkYfRMjQ"
      }
    },
    {
      "cell_type": "code",
      "source": [
        "# W.A.P to check whether a number is even or odd.\n",
        "num = int(input(\"Enter a number: \"))\n",
        "if num % 2 == 0:\n",
        "  print(f\"{num} is even.\")\n",
        "else:\n",
        "  print(f\"{num} is odd.\")"
      ],
      "metadata": {
        "colab": {
          "base_uri": "https://localhost:8080/"
        },
        "collapsed": true,
        "id": "h1-5a3zW8wIt",
        "outputId": "968e343e-707f-465f-98d9-2ec9d0654277"
      },
      "execution_count": null,
      "outputs": [
        {
          "output_type": "stream",
          "name": "stdout",
          "text": [
            "Enter a number: 3\n",
            "3 is odd.\n"
          ]
        }
      ]
    },
    {
      "cell_type": "code",
      "source": [
        "# W.A.P to check the eligibility criteria for voting\n",
        "# If 18 or above then print eligible to vote\n",
        "# else print not eligible to vote and also print after how many\n",
        "# years will he/she be eligle\n",
        "age = int(input(\"Enter your age: \"))\n",
        "if age >= 18:\n",
        "  print(\"eligible to vote\")\n",
        "else:\n",
        "  print(\"not eligible to vote\\neligible after \", 18 - age, \" years\")"
      ],
      "metadata": {
        "id": "6NLHqth0-sfs",
        "colab": {
          "base_uri": "https://localhost:8080/"
        },
        "outputId": "96937f91-b548-4748-8c26-3b7d9efc4a26"
      },
      "execution_count": null,
      "outputs": [
        {
          "output_type": "stream",
          "name": "stdout",
          "text": [
            "Enter your age: 19\n",
            "eligible to vote\n"
          ]
        }
      ]
    },
    {
      "cell_type": "code",
      "source": [
        "# using formatted string\n",
        "age = int(input(\"Enter your age: \"))\n",
        "if age >= 18:\n",
        "  print(\"eligible to vote\")\n",
        "else:\n",
        "  print(f\"not eligible to vote\\neligible after {18 - age} years\")"
      ],
      "metadata": {
        "id": "U06B3Q72BKKP",
        "colab": {
          "base_uri": "https://localhost:8080/"
        },
        "outputId": "3b5d2bae-875b-4a82-9c4e-dd89e0f10e3c"
      },
      "execution_count": null,
      "outputs": [
        {
          "output_type": "stream",
          "name": "stdout",
          "text": [
            "Enter your age: 11\n",
            "not eligible to vote\n",
            "eligible after 7 years\n"
          ]
        }
      ]
    }
  ]
}