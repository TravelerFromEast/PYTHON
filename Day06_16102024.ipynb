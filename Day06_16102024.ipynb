{
  "nbformat": 4,
  "nbformat_minor": 0,
  "metadata": {
    "colab": {
      "provenance": []
    },
    "kernelspec": {
      "name": "python3",
      "display_name": "Python 3"
    },
    "language_info": {
      "name": "python"
    }
  },
  "cells": [
    {
      "cell_type": "markdown",
      "source": [
        "# CONVERTING A STRING TO A LIST"
      ],
      "metadata": {
        "id": "HPLDLoFEemgV"
      }
    },
    {
      "cell_type": "code",
      "source": [
        "my_str = \"Hello, World!\"\n",
        "print(my_str)\n",
        "# METHOD 1\n",
        "chr_list = list(my_str)\n",
        "print(chr_list)"
      ],
      "metadata": {
        "colab": {
          "base_uri": "https://localhost:8080/"
        },
        "id": "6ecdiMCugwdu",
        "outputId": "99e67d64-4d24-4345-9ad5-7ff136ff494d"
      },
      "execution_count": 1,
      "outputs": [
        {
          "output_type": "stream",
          "name": "stdout",
          "text": [
            "Hello, World!\n",
            "['H', 'e', 'l', 'l', 'o', ',', ' ', 'W', 'o', 'r', 'l', 'd', '!']\n"
          ]
        }
      ]
    },
    {
      "cell_type": "code",
      "source": [
        "# METHOD 2 - a. SPLIT BY WHITE SPACE\n",
        "substr_list = my_str.split()\n",
        "print(substr_list)"
      ],
      "metadata": {
        "colab": {
          "base_uri": "https://localhost:8080/"
        },
        "id": "fjnvswpOhUfx",
        "outputId": "1cfb755f-3f1b-4a38-fc8e-e0489d1d111a"
      },
      "execution_count": 2,
      "outputs": [
        {
          "output_type": "stream",
          "name": "stdout",
          "text": [
            "['Hello,', 'World!']\n"
          ]
        }
      ]
    },
    {
      "cell_type": "code",
      "source": [
        "# b. SPLIT BY COMMA\n",
        "substr_list2 = my_str.split(\",\")\n",
        "print(substr_list2)"
      ],
      "metadata": {
        "colab": {
          "base_uri": "https://localhost:8080/"
        },
        "id": "B2LBLuxVhmJS",
        "outputId": "86fb3581-0dd9-4fb8-f42e-e32f37621426"
      },
      "execution_count": 3,
      "outputs": [
        {
          "output_type": "stream",
          "name": "stdout",
          "text": [
            "['Hello', ' World!']\n"
          ]
        }
      ]
    },
    {
      "cell_type": "markdown",
      "source": [
        "# CONVERTING A LIST INTO STRING"
      ],
      "metadata": {
        "id": "FHow8iwgh5Rv"
      }
    },
    {
      "cell_type": "code",
      "source": [
        "string1 = \"\".join(chr_list)\n",
        "print(string1)"
      ],
      "metadata": {
        "colab": {
          "base_uri": "https://localhost:8080/"
        },
        "id": "PnlPzXXkh9np",
        "outputId": "25359f76-4e49-4eb0-e264-8c970dfde9b6"
      },
      "execution_count": 5,
      "outputs": [
        {
          "output_type": "stream",
          "name": "stdout",
          "text": [
            "Hello, World!\n"
          ]
        }
      ]
    },
    {
      "cell_type": "code",
      "source": [
        "string2 = \"\".join(substr_list)\n",
        "print(string2)"
      ],
      "metadata": {
        "colab": {
          "base_uri": "https://localhost:8080/"
        },
        "id": "73lUCmObiSby",
        "outputId": "5d2f3fd7-0c96-445d-9696-a1de1db221dc"
      },
      "execution_count": 6,
      "outputs": [
        {
          "output_type": "stream",
          "name": "stdout",
          "text": [
            "Hello,World!\n"
          ]
        }
      ]
    },
    {
      "cell_type": "code",
      "source": [
        "string3 = \"\".join(substr_list2)\n",
        "print(string3)"
      ],
      "metadata": {
        "colab": {
          "base_uri": "https://localhost:8080/"
        },
        "id": "8jq1MRYjiiP-",
        "outputId": "7819ea4c-2c09-4340-a2b1-c360de931856"
      },
      "execution_count": 7,
      "outputs": [
        {
          "output_type": "stream",
          "name": "stdout",
          "text": [
            "Hello World!\n"
          ]
        }
      ]
    },
    {
      "cell_type": "code",
      "source": [
        "string4 = \",\".join(substr_list2)\n",
        "print(string4)"
      ],
      "metadata": {
        "colab": {
          "base_uri": "https://localhost:8080/"
        },
        "id": "DO8djLTPiqwN",
        "outputId": "62e4a4fa-278d-464b-9e84-0cbfa98aa9f2"
      },
      "execution_count": 11,
      "outputs": [
        {
          "output_type": "stream",
          "name": "stdout",
          "text": [
            "Hello, World!\n"
          ]
        }
      ]
    }
  ]
}