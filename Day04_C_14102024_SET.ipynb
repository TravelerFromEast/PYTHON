{
  "nbformat": 4,
  "nbformat_minor": 0,
  "metadata": {
    "colab": {
      "provenance": []
    },
    "kernelspec": {
      "name": "python3",
      "display_name": "Python 3"
    },
    "language_info": {
      "name": "python"
    }
  },
  "cells": [
    {
      "cell_type": "markdown",
      "source": [
        "# SET"
      ],
      "metadata": {
        "id": "vrXf9BZwHwqR"
      }
    },
    {
      "cell_type": "markdown",
      "source": [
        "### CREATING SET"
      ],
      "metadata": {
        "id": "FaPGhILJJSVP"
      }
    },
    {
      "cell_type": "code",
      "execution_count": null,
      "metadata": {
        "id": "ulzLKgIgT5YU",
        "colab": {
          "base_uri": "https://localhost:8080/"
        },
        "outputId": "557da861-0de7-4a3f-f104-a28b93d6db90"
      },
      "outputs": [
        {
          "output_type": "stream",
          "name": "stdout",
          "text": [
            "{1, 2, 3, 4, 5}\n",
            "<class 'set'>\n"
          ]
        }
      ],
      "source": [
        "# METHOD 1\n",
        "my_set = {1, 2, 3, 4, 5}\n",
        "print(my_set)\n",
        "print(type(my_set))"
      ]
    },
    {
      "cell_type": "code",
      "source": [
        "# METHOD 2 - using set() constructor\n",
        "num_list = [1, 2, 3, 4, 5]\n",
        "num_set = set(num_list)\n",
        "print(num_list)\n",
        "print(type(num_list))\n",
        "print(num_set)\n",
        "print(type(num_set))"
      ],
      "metadata": {
        "colab": {
          "base_uri": "https://localhost:8080/"
        },
        "id": "I1vRAENiIJgb",
        "outputId": "748991c0-2da3-446b-c471-1eb441f2e5ad"
      },
      "execution_count": null,
      "outputs": [
        {
          "output_type": "stream",
          "name": "stdout",
          "text": [
            "[1, 2, 3, 4, 5]\n",
            "<class 'list'>\n",
            "{1, 2, 3, 4, 5}\n",
            "<class 'set'>\n"
          ]
        }
      ]
    },
    {
      "cell_type": "markdown",
      "source": [
        "## BASIC OPERATIONS\n"
      ],
      "metadata": {
        "id": "YCXZ6EqXI-Si"
      }
    },
    {
      "cell_type": "markdown",
      "source": [
        "### ADDING ELEMENTS\n"
      ],
      "metadata": {
        "id": "IvVs078KJGJG"
      }
    },
    {
      "cell_type": "code",
      "source": [
        "my_set.add(6)\n",
        "print(my_set)"
      ],
      "metadata": {
        "colab": {
          "base_uri": "https://localhost:8080/"
        },
        "id": "gbJDMqbfJNJX",
        "outputId": "4ceab14b-596c-4dde-be1c-4be0fe4e73d2"
      },
      "execution_count": null,
      "outputs": [
        {
          "output_type": "stream",
          "name": "stdout",
          "text": [
            "{1, 2, 3, 4, 5, 6}\n"
          ]
        }
      ]
    },
    {
      "cell_type": "markdown",
      "source": [
        "### REMOVING ELEMENTS\n",
        "\n"
      ],
      "metadata": {
        "id": "pacDuYtLJc_R"
      }
    },
    {
      "cell_type": "code",
      "source": [
        "# METHOD 1\n",
        "my_set.remove(6)\n",
        "print(my_set)"
      ],
      "metadata": {
        "colab": {
          "base_uri": "https://localhost:8080/"
        },
        "id": "y9RTlhUDJcqO",
        "outputId": "d4efa97b-eebf-4237-bcb0-600460c70dc2"
      },
      "execution_count": null,
      "outputs": [
        {
          "output_type": "stream",
          "name": "stdout",
          "text": [
            "{1, 2, 3, 4, 5}\n"
          ]
        }
      ]
    },
    {
      "cell_type": "code",
      "source": [
        "# remove() raises error if the element is not present\n",
        "my_set.remove(6)\n",
        "print(my_set)"
      ],
      "metadata": {
        "colab": {
          "base_uri": "https://localhost:8080/",
          "height": 180
        },
        "id": "Nk05kdQWJtT-",
        "outputId": "df984ec6-fc04-4833-cafc-be9797908ccf"
      },
      "execution_count": null,
      "outputs": [
        {
          "output_type": "error",
          "ename": "KeyError",
          "evalue": "6",
          "traceback": [
            "\u001b[0;31m---------------------------------------------------------------------------\u001b[0m",
            "\u001b[0;31mKeyError\u001b[0m                                  Traceback (most recent call last)",
            "\u001b[0;32m<ipython-input-6-4200e8e597bf>\u001b[0m in \u001b[0;36m<cell line: 2>\u001b[0;34m()\u001b[0m\n\u001b[1;32m      1\u001b[0m \u001b[0;31m# .remove() raises error if the element is not present\u001b[0m\u001b[0;34m\u001b[0m\u001b[0;34m\u001b[0m\u001b[0m\n\u001b[0;32m----> 2\u001b[0;31m \u001b[0mmy_set\u001b[0m\u001b[0;34m.\u001b[0m\u001b[0mremove\u001b[0m\u001b[0;34m(\u001b[0m\u001b[0;36m6\u001b[0m\u001b[0;34m)\u001b[0m\u001b[0;34m\u001b[0m\u001b[0;34m\u001b[0m\u001b[0m\n\u001b[0m\u001b[1;32m      3\u001b[0m \u001b[0mprint\u001b[0m\u001b[0;34m(\u001b[0m\u001b[0mmy_set\u001b[0m\u001b[0;34m)\u001b[0m\u001b[0;34m\u001b[0m\u001b[0;34m\u001b[0m\u001b[0m\n",
            "\u001b[0;31mKeyError\u001b[0m: 6"
          ]
        }
      ]
    },
    {
      "cell_type": "code",
      "source": [
        "# METHOD 2\n",
        "my_set.discard(5)\n",
        "print(my_set)"
      ],
      "metadata": {
        "colab": {
          "base_uri": "https://localhost:8080/"
        },
        "id": "BeklmycaKBUs",
        "outputId": "dfddc7b3-c7a5-42bb-8f4d-0ab8ba18f25f"
      },
      "execution_count": null,
      "outputs": [
        {
          "output_type": "stream",
          "name": "stdout",
          "text": [
            "{1, 2, 3, 4}\n"
          ]
        }
      ]
    },
    {
      "cell_type": "code",
      "source": [
        "# Unlike remove(), discard() does not return any error\n",
        "my_set.discard(5)\n",
        "print(my_set)"
      ],
      "metadata": {
        "colab": {
          "base_uri": "https://localhost:8080/"
        },
        "id": "RoUDZjHiKKAQ",
        "outputId": "426bdd8c-d734-481b-ae3d-f72486da8fa2"
      },
      "execution_count": null,
      "outputs": [
        {
          "output_type": "stream",
          "name": "stdout",
          "text": [
            "{1, 2, 3, 4}\n"
          ]
        }
      ]
    },
    {
      "cell_type": "markdown",
      "source": [
        "### CLEARING A SET"
      ],
      "metadata": {
        "id": "aM3LfhQgKhf7"
      }
    },
    {
      "cell_type": "code",
      "source": [
        "my_set.clear()\n",
        "print(my_set)"
      ],
      "metadata": {
        "colab": {
          "base_uri": "https://localhost:8080/"
        },
        "id": "jgl0EXJqKg7V",
        "outputId": "21cdcca3-a202-419e-c081-0cb8ffdb48f2"
      },
      "execution_count": null,
      "outputs": [
        {
          "output_type": "stream",
          "name": "stdout",
          "text": [
            "set()\n"
          ]
        }
      ]
    },
    {
      "cell_type": "markdown",
      "source": [
        "## SET OPERATION\n"
      ],
      "metadata": {
        "id": "7nPdvU8_Kzdj"
      }
    },
    {
      "cell_type": "code",
      "source": [
        "set_A = {1, 2, 3, 4, 5}\n",
        "set_B = {4, 5, 6, 7, 8}"
      ],
      "metadata": {
        "id": "oyv761BwLKE6"
      },
      "execution_count": null,
      "outputs": []
    },
    {
      "cell_type": "markdown",
      "source": [
        "### UNION"
      ],
      "metadata": {
        "id": "rJ5OzOAqK4CE"
      }
    },
    {
      "cell_type": "code",
      "source": [
        "union_set = set_A|set_B\n",
        "print(union_set)"
      ],
      "metadata": {
        "colab": {
          "base_uri": "https://localhost:8080/"
        },
        "id": "V5qGd6xqK3Bs",
        "outputId": "572c35cb-875c-4148-de02-60a06bef6ca6"
      },
      "execution_count": null,
      "outputs": [
        {
          "output_type": "stream",
          "name": "stdout",
          "text": [
            "{1, 2, 3, 4, 5, 6, 7, 8}\n"
          ]
        }
      ]
    },
    {
      "cell_type": "markdown",
      "source": [
        "### INTERSECTION"
      ],
      "metadata": {
        "id": "k4yWHwzALNOj"
      }
    },
    {
      "cell_type": "code",
      "source": [
        "intersect_set = set_A & set_B\n",
        "print(intersect_set)"
      ],
      "metadata": {
        "colab": {
          "base_uri": "https://localhost:8080/"
        },
        "id": "mGT-m2kmLMtf",
        "outputId": "3e091334-b20c-4729-bf01-689e16421739"
      },
      "execution_count": null,
      "outputs": [
        {
          "output_type": "stream",
          "name": "stdout",
          "text": [
            "{4, 5}\n"
          ]
        }
      ]
    },
    {
      "cell_type": "markdown",
      "source": [
        "### DIFFERENCE"
      ],
      "metadata": {
        "id": "JPMIAeDNLbHJ"
      }
    },
    {
      "cell_type": "code",
      "source": [
        "diff_setAB = set_A - set_B\n",
        "diff_setBA = set_B - set_A\n",
        "print(diff_setAB)\n",
        "print(diff_setBA)"
      ],
      "metadata": {
        "colab": {
          "base_uri": "https://localhost:8080/"
        },
        "id": "kFsm2i9fLaPi",
        "outputId": "51dd92f5-eb1c-42ba-f64c-3cbf4261bd1e"
      },
      "execution_count": null,
      "outputs": [
        {
          "output_type": "stream",
          "name": "stdout",
          "text": [
            "{1, 2, 3}\n",
            "{8, 6, 7}\n"
          ]
        }
      ]
    },
    {
      "cell_type": "markdown",
      "source": [
        "### SYMMETRIC DIFFERENCE"
      ],
      "metadata": {
        "id": "RHlZ5CsTLxoW"
      }
    },
    {
      "cell_type": "code",
      "source": [
        "# METHOD 1\n",
        "sym_diff = diff_setAB | diff_setBA\n",
        "print(sym_diff)"
      ],
      "metadata": {
        "colab": {
          "base_uri": "https://localhost:8080/"
        },
        "id": "od8y4rvaL2XX",
        "outputId": "5f6057e2-4e1c-4c95-c977-4105d4ebd486"
      },
      "execution_count": null,
      "outputs": [
        {
          "output_type": "stream",
          "name": "stdout",
          "text": [
            "{1, 2, 3, 6, 7, 8}\n"
          ]
        }
      ]
    },
    {
      "cell_type": "code",
      "source": [
        "# METHOD 2\n",
        "sym_diff = union_set - intersect_set\n",
        "print(sym_diff)"
      ],
      "metadata": {
        "colab": {
          "base_uri": "https://localhost:8080/"
        },
        "id": "1nGrtC94MCE8",
        "outputId": "2f684602-369d-4929-84c3-db1b7073f0c5"
      },
      "execution_count": null,
      "outputs": [
        {
          "output_type": "stream",
          "name": "stdout",
          "text": [
            "{1, 2, 3, 6, 7, 8}\n"
          ]
        }
      ]
    },
    {
      "cell_type": "code",
      "source": [
        "# METHOD 3\n",
        "sym_diff = set_A ^ set_B\n",
        "print(sym_diff)"
      ],
      "metadata": {
        "colab": {
          "base_uri": "https://localhost:8080/"
        },
        "id": "Cj7FbtDeMSFK",
        "outputId": "8330945d-115a-4f3a-b3b6-0014840b3850"
      },
      "execution_count": null,
      "outputs": [
        {
          "output_type": "stream",
          "name": "stdout",
          "text": [
            "{1, 2, 3, 6, 7, 8}\n"
          ]
        }
      ]
    },
    {
      "cell_type": "markdown",
      "source": [
        "## CHECKING MEMBERSHIP"
      ],
      "metadata": {
        "id": "drnIUUOvMddL"
      }
    },
    {
      "cell_type": "code",
      "source": [
        "# Return type -> Boolean\n",
        "print(2 in set_A)\n",
        "print(2 in set_B)\n",
        "print(2 not in set_B)"
      ],
      "metadata": {
        "colab": {
          "base_uri": "https://localhost:8080/"
        },
        "id": "15YcEJjyMcwi",
        "outputId": "03ef7754-255f-4e9b-8db0-68d485228a5a"
      },
      "execution_count": null,
      "outputs": [
        {
          "output_type": "stream",
          "name": "stdout",
          "text": [
            "True\n",
            "False\n",
            "True\n"
          ]
        }
      ]
    },
    {
      "cell_type": "markdown",
      "source": [
        "## LENGTH OF A SET"
      ],
      "metadata": {
        "id": "GjBKI2hGM2U3"
      }
    },
    {
      "cell_type": "code",
      "source": [
        "print(len(set_A))\n",
        "print(len(my_set))"
      ],
      "metadata": {
        "colab": {
          "base_uri": "https://localhost:8080/"
        },
        "id": "yPa1zzBzM5id",
        "outputId": "913c77ea-1ef7-4785-912b-758b66b776e4"
      },
      "execution_count": null,
      "outputs": [
        {
          "output_type": "stream",
          "name": "stdout",
          "text": [
            "5\n",
            "0\n"
          ]
        }
      ]
    },
    {
      "cell_type": "markdown",
      "source": [
        "## ALLOWS DUPLICATE?"
      ],
      "metadata": {
        "id": "NUlae4HxNF8Z"
      }
    },
    {
      "cell_type": "code",
      "source": [
        "my_set = {1, 2, 3, 1, 1, 4, 5, 6}\n",
        "print(my_set)"
      ],
      "metadata": {
        "colab": {
          "base_uri": "https://localhost:8080/"
        },
        "id": "S43KZG9hNFM7",
        "outputId": "f6f0040c-40a0-4d90-d3bb-ef08ac60b9c1"
      },
      "execution_count": null,
      "outputs": [
        {
          "output_type": "stream",
          "name": "stdout",
          "text": [
            "{1, 2, 3, 4, 5, 6}\n"
          ]
        }
      ]
    },
    {
      "cell_type": "markdown",
      "source": [
        "#### NO"
      ],
      "metadata": {
        "id": "o2KIZ2ijNPx9"
      }
    },
    {
      "cell_type": "markdown",
      "source": [
        "## HETEROGENITY?"
      ],
      "metadata": {
        "id": "3VAIvE7CNWPz"
      }
    },
    {
      "cell_type": "code",
      "source": [
        "my_set.clear()\n",
        "my_set = {1, 4.5, -9, -6.888, \"Krishna\", True}\n",
        "print(my_set)"
      ],
      "metadata": {
        "colab": {
          "base_uri": "https://localhost:8080/"
        },
        "id": "-fbi0K9TNTX-",
        "outputId": "b53e5ef5-5fa4-4efb-dd6e-4e571514b051"
      },
      "execution_count": null,
      "outputs": [
        {
          "output_type": "stream",
          "name": "stdout",
          "text": [
            "{1, 'Krishna', 4.5, -9, -6.888}\n"
          ]
        }
      ]
    },
    {
      "cell_type": "markdown",
      "source": [
        "#### UNORDERED, ALLOWS HETEROGENITY <b>EXCEPT BOOLEAN VALUE</b>"
      ],
      "metadata": {
        "id": "kEk0iET9NlvL"
      }
    }
  ]
}