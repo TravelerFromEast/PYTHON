{
  "cells": [
    {
      "cell_type": "markdown",
      "source": [
        "# LOOP\n",
        "Types of loops - FOR, WHILE"
      ],
      "metadata": {
        "id": "wAjwqYIFMC4-"
      }
    },
    {
      "cell_type": "markdown",
      "source": [
        "## WHILE LOOP"
      ],
      "metadata": {
        "id": "HD6D30m7MLNA"
      }
    },
    {
      "cell_type": "code",
      "execution_count": null,
      "metadata": {
        "colab": {
          "base_uri": "https://localhost:8080/"
        },
        "id": "HAlJ6jODHza9",
        "outputId": "54e91b2e-b37a-4064-c303-3e560ca610d2"
      },
      "outputs": [
        {
          "name": "stdout",
          "output_type": "stream",
          "text": [
            "0\t1\t2\t3\t4\t5\t6\t7\t8\t9\t"
          ]
        }
      ],
      "source": [
        "# W.A.P to print numbers from 0 to 9\n",
        "i = 0\n",
        "while i <= 9:\n",
        "  print(i,end=\"\\t\")\n",
        "  i+=1 # i += 1 is same as i = i + 1"
      ]
    },
    {
      "cell_type": "code",
      "execution_count": null,
      "metadata": {
        "colab": {
          "base_uri": "https://localhost:8080/"
        },
        "id": "Tlr1chvxKWow",
        "outputId": "2260e048-32ec-4b26-cdfb-efd442f71196"
      },
      "outputs": [
        {
          "name": "stdout",
          "output_type": "stream",
          "text": [
            "0 1 2 3 4 5 6 7 8 9 "
          ]
        }
      ],
      "source": [
        "# Or, simply\n",
        "i = 0\n",
        "while i <= 9:\n",
        "  print(i,end=\" \")\n",
        "  i+=1"
      ]
    },
    {
      "cell_type": "code",
      "execution_count": null,
      "metadata": {
        "colab": {
          "base_uri": "https://localhost:8080/"
        },
        "id": "47Ir6FDeJ8ka",
        "outputId": "a9a336ef-2ea3-4a7a-f9cf-db9b52b0d380"
      },
      "outputs": [
        {
          "name": "stdout",
          "output_type": "stream",
          "text": [
            "0\n",
            "1\n",
            "2\n",
            "3\n",
            "4\n",
            "5\n",
            "6\n",
            "7\n",
            "8\n",
            "9\n"
          ]
        }
      ],
      "source": [
        "i = 0\n",
        "while i <= 9:\n",
        "  print(i,end=\"\\n\")\n",
        "  i+=1"
      ]
    },
    {
      "cell_type": "code",
      "execution_count": null,
      "metadata": {
        "colab": {
          "base_uri": "https://localhost:8080/"
        },
        "id": "2Jrdi0pLKJPS",
        "outputId": "e6490f55-c1d0-4e2b-8835-06363006dfba"
      },
      "outputs": [
        {
          "name": "stdout",
          "output_type": "stream",
          "text": [
            "0\n",
            "1\n",
            "2\n",
            "3\n",
            "4\n",
            "5\n",
            "6\n",
            "7\n",
            "8\n",
            "9\n"
          ]
        }
      ],
      "source": [
        "# Or, simply\n",
        "i = 0\n",
        "while i <= 9:\n",
        "  print(i)\n",
        "  i+=1"
      ]
    },
    {
      "cell_type": "code",
      "execution_count": null,
      "metadata": {
        "colab": {
          "base_uri": "https://localhost:8080/"
        },
        "id": "scVe9OcVMR2n",
        "outputId": "0dfe6c8c-70fb-4c65-c5e5-298a4ae20cfc"
      },
      "outputs": [
        {
          "name": "stdout",
          "output_type": "stream",
          "text": [
            "0\n",
            "2\n",
            "4\n",
            "6\n",
            "8\n"
          ]
        }
      ],
      "source": [
        "# in the above program the increament was 1\n",
        "# for increment to be 2\n",
        "i = 0\n",
        "while i <= 9:\n",
        "  print(i)\n",
        "  i += 2"
      ]
    },
    {
      "cell_type": "code",
      "execution_count": null,
      "metadata": {
        "colab": {
          "base_uri": "https://localhost:8080/"
        },
        "id": "FHiLx0GSM7lk",
        "outputId": "54bbebe7-8deb-4752-80cb-9d456c38e967"
      },
      "outputs": [
        {
          "name": "stdout",
          "output_type": "stream",
          "text": [
            "Enter a number: 10\n",
            "10 X 1 = 10\n",
            "10 X 2 = 20\n",
            "10 X 3 = 30\n",
            "10 X 4 = 40\n",
            "10 X 5 = 50\n",
            "10 X 6 = 60\n",
            "10 X 7 = 70\n",
            "10 X 8 = 80\n",
            "10 X 9 = 90\n",
            "10 X 10 = 100\n"
          ]
        }
      ],
      "source": [
        "# W.A.P for multiplication table of a number\n",
        "num = int(input(\"Enter a number: \"))\n",
        "i = 1\n",
        "while i <= 10:\n",
        "  print(f\"{num} X {i} = {num * i}\")\n",
        "  i += 1"
      ]
    },
    {
      "cell_type": "markdown",
      "source": [
        "## FOR LOOP"
      ],
      "metadata": {
        "id": "xnZG4cRHMP-P"
      }
    },
    {
      "cell_type": "code",
      "execution_count": null,
      "metadata": {
        "colab": {
          "base_uri": "https://localhost:8080/"
        },
        "id": "gYOhirkdPZyd",
        "outputId": "618a0f22-2e58-431d-e47b-3f1d6e88d952"
      },
      "outputs": [
        {
          "name": "stdout",
          "output_type": "stream",
          "text": [
            "1\n",
            "2\n",
            "3\n",
            "4\n",
            "5\n",
            "6\n",
            "7\n",
            "8\n",
            "9\n",
            "10\n"
          ]
        }
      ],
      "source": [
        "# W.A.P to print numbers from 1 to 10\n",
        "for i in range(1, 11): # 1 is inclusive while 11 is exclusive\n",
        "  print(i)"
      ]
    },
    {
      "cell_type": "code",
      "execution_count": null,
      "metadata": {
        "colab": {
          "base_uri": "https://localhost:8080/"
        },
        "id": "O9QtyQn3PuSD",
        "outputId": "a8e932bf-c2cf-46e6-ba84-a057e61617f8"
      },
      "outputs": [
        {
          "name": "stdout",
          "output_type": "stream",
          "text": [
            "1\t2\t3\t4\t5\t6\t7\t8\t9\t10\t"
          ]
        }
      ],
      "source": [
        "for i in range(1, 11):\n",
        "  print(i, end=\"\\t\")"
      ]
    },
    {
      "cell_type": "code",
      "execution_count": null,
      "metadata": {
        "colab": {
          "base_uri": "https://localhost:8080/"
        },
        "id": "90a7p7SzP8pK",
        "outputId": "dbe9240a-0e67-46b5-e473-3d8d699707f7"
      },
      "outputs": [
        {
          "name": "stdout",
          "output_type": "stream",
          "text": [
            "1\n",
            "3\n",
            "5\n",
            "7\n",
            "9\n"
          ]
        }
      ],
      "source": [
        "# for increment of +2\n",
        "for i in range(1, 10, 2):\n",
        "  print(i)"
      ]
    },
    {
      "cell_type": "code",
      "execution_count": null,
      "metadata": {
        "colab": {
          "base_uri": "https://localhost:8080/"
        },
        "id": "JYmuOCoGQdsK",
        "outputId": "97952347-c143-4c3d-ff45-0f7463e9942b"
      },
      "outputs": [
        {
          "name": "stdout",
          "output_type": "stream",
          "text": [
            "1\t3\t5\t7\t9\t"
          ]
        }
      ],
      "source": [
        "for i in range(1, 10, 2):\n",
        "  print(i, end=\"\\t\")"
      ]
    },
    {
      "cell_type": "code",
      "execution_count": null,
      "metadata": {
        "colab": {
          "base_uri": "https://localhost:8080/"
        },
        "id": "72jLBXzjQh_K",
        "outputId": "85616c67-70ca-4a84-effd-ac1a91ed83ce"
      },
      "outputs": [
        {
          "name": "stdout",
          "output_type": "stream",
          "text": [
            "11\t9\t7\t5\t3\t"
          ]
        }
      ],
      "source": [
        "# decrement\n",
        "for i in range(11, 1, -2):\n",
        "  print(i, end=\"\\t\")"
      ]
    },
    {
      "cell_type": "code",
      "execution_count": null,
      "metadata": {
        "colab": {
          "base_uri": "https://localhost:8080/"
        },
        "id": "cU5LR5P-RHDL",
        "outputId": "89b302f4-5b22-4009-943f-51c8d872e89d"
      },
      "outputs": [
        {
          "output_type": "stream",
          "name": "stdout",
          "text": [
            "Enter a number: 12\n",
            "12 X 1 = 12\n",
            "12 X 2 = 24\n",
            "12 X 3 = 36\n",
            "12 X 4 = 48\n",
            "12 X 5 = 60\n",
            "12 X 6 = 72\n",
            "12 X 7 = 84\n",
            "12 X 8 = 96\n",
            "12 X 9 = 108\n",
            "12 X 10 = 120\n"
          ]
        }
      ],
      "source": [
        "# W.A.P for multiplication table of a number\n",
        "num = int(input(\"Enter a number: \"))\n",
        "for i in range(1, 11):\n",
        "  print(f\"{num} X {i} = {num * i}\")"
      ]
    },
    {
      "cell_type": "code",
      "execution_count": null,
      "metadata": {
        "id": "Lkom_wudTD5e",
        "colab": {
          "base_uri": "https://localhost:8080/"
        },
        "outputId": "2288de55-0102-4f7b-8156-973a2b07f5ee"
      },
      "outputs": [
        {
          "output_type": "stream",
          "name": "stdout",
          "text": [
            "Enter a number: 12\n",
            "Enter another number: 23\n",
            "Sum of 12 and 23 is: 35\n"
          ]
        }
      ],
      "source": [
        "# Creating a user-defined function\n",
        "def add(a,b):\n",
        "  return a + b\n",
        "\n",
        "num1 = int(input(\"Enter a number: \"))\n",
        "num2 = int(input(\"Enter another number: \"))\n",
        "print(f\"Sum of {num1} and {num2} is: {add(num1, num2)}\")"
      ]
    },
    {
      "cell_type": "markdown",
      "source": [
        "## FILE HANDLING"
      ],
      "metadata": {
        "id": "LTrcQHeKMUPf"
      }
    },
    {
      "cell_type": "code",
      "source": [
        "# Creating a text file\n",
        "%%writefile abc.txt\n",
        "%%Writefle is a magic command to create a file with name abc and ext .txt\n",
        "This is a demo file.\n",
        "It is created for testing purpose."
      ],
      "metadata": {
        "colab": {
          "base_uri": "https://localhost:8080/"
        },
        "id": "nrDnQG6wF-Lv",
        "outputId": "9d47699d-600b-4848-d0f5-b2413860379f"
      },
      "execution_count": null,
      "outputs": [
        {
          "output_type": "stream",
          "name": "stdout",
          "text": [
            "Overwriting abc.txt\n"
          ]
        }
      ]
    },
    {
      "cell_type": "markdown",
      "source": [
        "1. A text file gets created.\n",
        "\n",
        "2. To access the file -\n",
        "\n",
        "       Step 1. Hover the mouse to left side of the window\n",
        "\n",
        "       Step 2. (Single) Click on 'Files'\n",
        "\n",
        "       Step 3. Hover the mouse on the created file and double click on it.\n",
        "\n",
        "       Step 4. The file gets open on the right side of the window.\n",
        "\n",
        "\n",
        " 3. The file can also be downloaded.\n",
        "\n",
        " 4. On clicking on the runn button -> Output: Writing abc.txt\n",
        "\n",
        " 5. Now on doing changes in the document and then clicking on the run button -> Output: Overwriting abc.txt"
      ],
      "metadata": {
        "id": "JnJrF_U0Rte3"
      }
    },
    {
      "cell_type": "code",
      "source": [
        "# Creating a python file\n",
        "%%writefile xyz.py\n",
        "# This is a demo pyfile.\n",
        "print(\"Hello World!\")"
      ],
      "metadata": {
        "colab": {
          "base_uri": "https://localhost:8080/"
        },
        "id": "a7GwdKfIIkyy",
        "outputId": "5584307e-3faa-4950-cf43-104c84015006"
      },
      "execution_count": null,
      "outputs": [
        {
          "output_type": "stream",
          "name": "stdout",
          "text": [
            "Writing xyz.py\n"
          ]
        }
      ]
    },
    {
      "cell_type": "code",
      "source": [
        "# To run the python file created using the magic command\n",
        "!python xyz.py"
      ],
      "metadata": {
        "colab": {
          "base_uri": "https://localhost:8080/"
        },
        "id": "s_y9FuxlKl6o",
        "outputId": "888c97b9-aa8a-49e1-ffe0-84f1f424cf9a"
      },
      "execution_count": null,
      "outputs": [
        {
          "output_type": "stream",
          "name": "stdout",
          "text": [
            "Hello World!\n"
          ]
        }
      ]
    },
    {
      "cell_type": "code",
      "source": [
        "# Creating a word file\n",
        "%%writefile demo.doc\n",
        "This is a demo doc file."
      ],
      "metadata": {
        "colab": {
          "base_uri": "https://localhost:8080/"
        },
        "id": "GfPjKPXVJhDT",
        "outputId": "95373a36-1da1-4da1-dc56-fd7fb96f5428"
      },
      "execution_count": null,
      "outputs": [
        {
          "output_type": "stream",
          "name": "stdout",
          "text": [
            "Writing demo.doc\n"
          ]
        }
      ]
    },
    {
      "cell_type": "markdown",
      "source": [
        "In Google Colab, the command `%%writefile xyz.py` is a magic command used to write the contents of a cell to a file. While the example you've provided creates a Python file (`xyz.py`), you can actually create files of various types by simply changing the file extension in the command.\n",
        "\n",
        "### Types of Files You Can Create\n",
        "\n",
        "1. **Python Files**:\n",
        "   - Example: `%%writefile script.py`\n",
        "   - Use this for any Python code you want to save.\n",
        "\n",
        "2. **Text Files**:\n",
        "   - Example: `%%writefile data.txt`\n",
        "   - Useful for saving plain text data.\n",
        "\n",
        "3. **Markdown Files**:\n",
        "   - Example: `%%writefile notes.md`\n",
        "   - You can save Markdown-formatted text for documentation.\n",
        "\n",
        "4. **CSV Files**:\n",
        "   - Example: `%%writefile data.csv`\n",
        "   - Create CSV files for tabular data.\n",
        "\n",
        "5. **JSON Files**:\n",
        "   - Example: `%%writefile config.json`\n",
        "   - Useful for saving structured data in JSON format.\n",
        "\n",
        "6. **HTML Files**:\n",
        "   - Example: `%%writefile index.html`\n",
        "   - You can create HTML documents for web pages.\n",
        "\n",
        "7. **Shell Scripts**:\n",
        "   - Example: `%%writefile script.sh`\n",
        "   - Save shell scripts to run in a Unix-like environment.\n",
        "\n",
        "8. **Other Formats**:\n",
        "   - You can create any file type by specifying the appropriate extension (like `.xml`, `.yaml`, `.txt`, etc.).\n",
        "\n",
        "### Example Usage\n",
        "\n",
        "Here's how you might create a few different file types:\n",
        "\n",
        "```python\n",
        "%%writefile example.py\n",
        "print(\"Hello, World!\")\n",
        "\n",
        "%%writefile example.txt\n",
        "This is a text file.\n",
        "\n",
        "%%writefile example.csv\n",
        "name,age\n",
        "Alice,30\n",
        "Bob,25\n",
        "\n",
        "%%writefile example.json\n",
        "{\n",
        "    \"name\": \"Alice\",\n",
        "    \"age\": 30\n",
        "}\n",
        "```\n",
        "\n",
        "### Conclusion\n",
        "\n",
        "The `%%writefile` command can be used to create virtually any type of file, as long as you specify the correct file extension. Just remember that the contents of the cell will determine the file's structure and format, so make sure to write the appropriate content for the type of file you want to create!"
      ],
      "metadata": {
        "id": "yAz5KOFUKJEj"
      }
    },
    {
      "cell_type": "markdown",
      "source": [
        "## SEQUENCES IN PYTHON\n",
        "\n",
        "These are data structures in python.\n",
        "\n",
        "    1. Tuple\n",
        "    2. Set\n",
        "    3. Dictionary\n",
        "    4. List\n",
        "\n",
        "Certain number of items either of same or different datatypes can be stored."
      ],
      "metadata": {
        "id": "Kh9jInOgMeGW"
      }
    },
    {
      "cell_type": "markdown",
      "source": [
        "## LISTS"
      ],
      "metadata": {
        "id": "f39856UlMrnt"
      }
    },
    {
      "cell_type": "code",
      "source": [
        "# storing data having same datatype\n",
        "a = [1, 2, 3, 4, 5]\n",
        "print(a)"
      ],
      "metadata": {
        "colab": {
          "base_uri": "https://localhost:8080/"
        },
        "id": "JkdD7gheLcaE",
        "outputId": "1e26be06-e7ac-4c60-db17-dfda1fe86b59"
      },
      "execution_count": null,
      "outputs": [
        {
          "output_type": "stream",
          "name": "stdout",
          "text": [
            "[1, 2, 3, 4, 5]\n"
          ]
        }
      ]
    },
    {
      "cell_type": "code",
      "source": [
        "type(a)"
      ],
      "metadata": {
        "colab": {
          "base_uri": "https://localhost:8080/"
        },
        "id": "tk8CFjEdLp4Z",
        "outputId": "3dadef16-f5a7-4447-c1d0-deadf2bd4305"
      },
      "execution_count": null,
      "outputs": [
        {
          "output_type": "execute_result",
          "data": {
            "text/plain": [
              "list"
            ]
          },
          "metadata": {},
          "execution_count": 6
        }
      ]
    },
    {
      "cell_type": "code",
      "source": [
        "# storing data having different datatype\n",
        "b = [25, \"Hello World\", 2.7, True]\n",
        "print(b)"
      ],
      "metadata": {
        "colab": {
          "base_uri": "https://localhost:8080/"
        },
        "id": "wtmGF2yVLxJx",
        "outputId": "0072677b-eb0b-436a-b6d1-b110cb4ec2a2"
      },
      "execution_count": null,
      "outputs": [
        {
          "output_type": "stream",
          "name": "stdout",
          "text": [
            "[25, 'Hello World', 2.7, True]\n"
          ]
        }
      ]
    },
    {
      "cell_type": "code",
      "source": [
        "type(b)"
      ],
      "metadata": {
        "colab": {
          "base_uri": "https://localhost:8080/"
        },
        "id": "PFtu_ijyMARo",
        "outputId": "a9dda77f-d4bd-4249-ec78-1f1f57b7a183"
      },
      "execution_count": null,
      "outputs": [
        {
          "output_type": "execute_result",
          "data": {
            "text/plain": [
              "list"
            ]
          },
          "metadata": {},
          "execution_count": 7
        }
      ]
    },
    {
      "cell_type": "code",
      "source": [
        "fruits = [\"Apple\", \"Banana\", \"Mango\", \"Coconut\", \"Grapes\"]\n",
        "print(fruits)"
      ],
      "metadata": {
        "colab": {
          "base_uri": "https://localhost:8080/"
        },
        "id": "p85zj-KFMIbp",
        "outputId": "61b06210-a24f-4c91-9abe-bc1abdd548d3"
      },
      "execution_count": null,
      "outputs": [
        {
          "output_type": "stream",
          "name": "stdout",
          "text": [
            "['Apple', 'Banana', 'Mango', 'Coconut', 'Grapes']\n"
          ]
        }
      ]
    },
    {
      "cell_type": "markdown",
      "source": [
        "Lists are ordered -> order is maintianed\n"
      ],
      "metadata": {
        "id": "w28UQ9ImMxxg"
      }
    },
    {
      "cell_type": "code",
      "source": [
        "# OPERATIONS ON A LIST\n",
        "# append()\n",
        "fruits.append(\"Kiwi\")\n",
        "print(fruits)"
      ],
      "metadata": {
        "colab": {
          "base_uri": "https://localhost:8080/"
        },
        "id": "LDMZGCd3MiHf",
        "outputId": "a681c108-065b-4835-f174-5ae9c6cbadbf"
      },
      "execution_count": null,
      "outputs": [
        {
          "output_type": "stream",
          "name": "stdout",
          "text": [
            "['Apple', 'Banana', 'Mango', 'Coconut', 'Grapes', 'Kiwi']\n"
          ]
        }
      ]
    },
    {
      "cell_type": "markdown",
      "source": [
        "Kiwi is added to the list and the list gets altered.\n",
        "\n",
        "If the above cell is ran n times, \"Kiwi\" will be added n times"
      ],
      "metadata": {
        "id": "_JqxF6SbNCWJ"
      }
    },
    {
      "cell_type": "code",
      "source": [
        "fruits = [\"Apple\", \"Banana\", \"Mango\", \"Coconut\", \"Grapes\"]\n",
        "print(fruits)"
      ],
      "metadata": {
        "colab": {
          "base_uri": "https://localhost:8080/"
        },
        "id": "BrU2-0l9NKfP",
        "outputId": "9d33523c-1a7c-490b-d5c0-b4063a49c559"
      },
      "execution_count": null,
      "outputs": [
        {
          "output_type": "stream",
          "name": "stdout",
          "text": [
            "['Apple', 'Banana', 'Mango', 'Coconut', 'Grapes']\n"
          ]
        }
      ]
    },
    {
      "cell_type": "code",
      "source": [
        "# To access a particular element from a list\n",
        "print(fruits[0])"
      ],
      "metadata": {
        "colab": {
          "base_uri": "https://localhost:8080/"
        },
        "id": "zjrAAbNYSNzy",
        "outputId": "732226c2-3f48-4d6f-e0c5-8d0fe05a222e"
      },
      "execution_count": null,
      "outputs": [
        {
          "output_type": "stream",
          "name": "stdout",
          "text": [
            "Apple\n"
          ]
        }
      ]
    },
    {
      "cell_type": "code",
      "source": [
        "print(fruits[0:2]) # 2 is excluded"
      ],
      "metadata": {
        "colab": {
          "base_uri": "https://localhost:8080/"
        },
        "id": "pE0jHGB9SZie",
        "outputId": "96457f7e-778d-43ff-8814-63b73c5909da"
      },
      "execution_count": null,
      "outputs": [
        {
          "output_type": "stream",
          "name": "stdout",
          "text": [
            "['Apple', 'Banana']\n"
          ]
        }
      ]
    },
    {
      "cell_type": "code",
      "source": [
        "print(fruits[::2])"
      ],
      "metadata": {
        "colab": {
          "base_uri": "https://localhost:8080/"
        },
        "id": "MRTH30q6SegU",
        "outputId": "60aa36a7-9025-45b1-9ae6-3ec3646f1741"
      },
      "execution_count": null,
      "outputs": [
        {
          "output_type": "stream",
          "name": "stdout",
          "text": [
            "['Apple', 'Mango', 'Grapes']\n"
          ]
        }
      ]
    },
    {
      "cell_type": "code",
      "source": [
        "fruits.append(\"Kiwi\")\n",
        "print(fruits)"
      ],
      "metadata": {
        "colab": {
          "base_uri": "https://localhost:8080/"
        },
        "id": "S_ApFmB3NOvM",
        "outputId": "e8855ff5-7bff-4c0a-e432-ff972fa44b48"
      },
      "execution_count": null,
      "outputs": [
        {
          "output_type": "stream",
          "name": "stdout",
          "text": [
            "['Apple', 'Banana', 'Mango', 'Coconut', 'Grapes', 'Kiwi']\n"
          ]
        }
      ]
    },
    {
      "cell_type": "code",
      "source": [
        "fruits = [\"Apple\", \"Banana\", \"Mango\", \"Coconut\", \"Grapes\"]\n",
        "print(fruits)"
      ],
      "metadata": {
        "colab": {
          "base_uri": "https://localhost:8080/"
        },
        "id": "BM0bVgQLNhFl",
        "outputId": "28645e33-477b-4f72-87e5-3697f073730f"
      },
      "execution_count": null,
      "outputs": [
        {
          "output_type": "stream",
          "name": "stdout",
          "text": [
            "['Apple', 'Banana', 'Mango', 'Coconut', 'Grapes']\n"
          ]
        }
      ]
    },
    {
      "cell_type": "code",
      "source": [
        "# Add an element based on index\n",
        "fruits.insert(2, \"Kiwi\") # -> Kiwi will be added to 2nd index\n",
        "# Index of first element in a list is 0.\n",
        "print(fruits)"
      ],
      "metadata": {
        "colab": {
          "base_uri": "https://localhost:8080/"
        },
        "id": "8tY-nmbQNYNA",
        "outputId": "7c60d8d7-cc0b-4367-ffbe-22a5f2bbc5f5"
      },
      "execution_count": null,
      "outputs": [
        {
          "output_type": "stream",
          "name": "stdout",
          "text": [
            "['Apple', 'Banana', 'Kiwi', 'Mango', 'Coconut', 'Grapes']\n"
          ]
        }
      ]
    },
    {
      "cell_type": "code",
      "source": [
        "# Remove an element from a list\n",
        "fruits.remove(\"Kiwi\")\n",
        "print(fruits)"
      ],
      "metadata": {
        "colab": {
          "base_uri": "https://localhost:8080/"
        },
        "id": "uG5xT6Q7N-Bk",
        "outputId": "829eac5d-08a4-499c-fac5-7798b6a6cb34"
      },
      "execution_count": null,
      "outputs": [
        {
          "output_type": "stream",
          "name": "stdout",
          "text": [
            "['Apple', 'Banana', 'Mango', 'Coconut', 'Grapes']\n"
          ]
        }
      ]
    },
    {
      "cell_type": "code",
      "source": [
        "# Removing an element from a list based on index\n",
        "fruits.pop(3) # ELement at index 3 will be removed"
      ],
      "metadata": {
        "colab": {
          "base_uri": "https://localhost:8080/",
          "height": 35
        },
        "id": "VhmcygtLOQqY",
        "outputId": "dfb8a48e-bea7-45dd-db78-1c98095726fd"
      },
      "execution_count": null,
      "outputs": [
        {
          "output_type": "execute_result",
          "data": {
            "text/plain": [
              "'Coconut'"
            ],
            "application/vnd.google.colaboratory.intrinsic+json": {
              "type": "string"
            }
          },
          "metadata": {},
          "execution_count": 80
        }
      ]
    },
    {
      "cell_type": "code",
      "source": [
        "print(fruits)"
      ],
      "metadata": {
        "colab": {
          "base_uri": "https://localhost:8080/"
        },
        "id": "3O-psBv_ObQN",
        "outputId": "b3210fde-0ea5-4324-bbad-88ccca67b168"
      },
      "execution_count": null,
      "outputs": [
        {
          "output_type": "stream",
          "name": "stdout",
          "text": [
            "['Apple', 'Banana', 'Mango', 'Grapes']\n"
          ]
        }
      ]
    },
    {
      "cell_type": "code",
      "source": [
        "# Reversing a list\n",
        "# Method 1\n",
        "fruits.reverse()\n",
        "print(fruits)"
      ],
      "metadata": {
        "colab": {
          "base_uri": "https://localhost:8080/"
        },
        "id": "0rDKjn7TOxti",
        "outputId": "0e91e2d4-4839-48d5-ab11-798ce8c133bf"
      },
      "execution_count": null,
      "outputs": [
        {
          "output_type": "stream",
          "name": "stdout",
          "text": [
            "['Grapes', 'Mango', 'Banana', 'Apple']\n"
          ]
        }
      ]
    },
    {
      "cell_type": "code",
      "source": [
        "# Method 2\n",
        "print(fruits[::-1]) # It creates another list and stores elements of the list\n",
        "                    # in reverse order (Slicing just creates a new list)\n",
        "print(fruits)"
      ],
      "metadata": {
        "colab": {
          "base_uri": "https://localhost:8080/"
        },
        "id": "82JDAwOAUtXj",
        "outputId": "88188372-b893-4d12-8f10-2128668de297"
      },
      "execution_count": null,
      "outputs": [
        {
          "output_type": "stream",
          "name": "stdout",
          "text": [
            "['Apple', 'Banana', 'Mango', 'Grapes']\n",
            "['Grapes', 'Mango', 'Banana', 'Apple']\n"
          ]
        }
      ]
    },
    {
      "cell_type": "code",
      "source": [
        "veggies = [\"Carrot\", \"Potato\", \"Cauliflower\", \"Tomato\", \"Capsicum\"]\n",
        "print(veggies)"
      ],
      "metadata": {
        "colab": {
          "base_uri": "https://localhost:8080/"
        },
        "id": "jb1_B_POO6sr",
        "outputId": "2940fc67-192d-4910-9d2f-20cf485fd093"
      },
      "execution_count": null,
      "outputs": [
        {
          "output_type": "stream",
          "name": "stdout",
          "text": [
            "['Carrot', 'Potato', 'Cauliflower', 'Tomato', 'Capsicum']\n"
          ]
        }
      ]
    },
    {
      "cell_type": "code",
      "source": [
        "# Merging lists\n",
        "fruits.extend(veggies)\n",
        "print(fruits)"
      ],
      "metadata": {
        "colab": {
          "base_uri": "https://localhost:8080/"
        },
        "id": "V_SesOU3PYam",
        "outputId": "9425999a-c816-49b5-c5f2-8bf09219d06b"
      },
      "execution_count": null,
      "outputs": [
        {
          "output_type": "stream",
          "name": "stdout",
          "text": [
            "['Grapes', 'Mango', 'Banana', 'Apple', 'Carrot', 'Potato', 'Cauliflower', 'Tomato', 'Capsicum']\n"
          ]
        }
      ]
    },
    {
      "cell_type": "code",
      "source": [
        "fruits = [\"Apple\", \"Banana\", \"Mango\", \"Coconut\", \"Grapes\"]\n",
        "print(fruits)"
      ],
      "metadata": {
        "colab": {
          "base_uri": "https://localhost:8080/"
        },
        "id": "1tYVEuVFMiYT",
        "outputId": "82313d21-463c-4025-9e91-6c3b68fa2982"
      },
      "execution_count": null,
      "outputs": [
        {
          "output_type": "stream",
          "name": "stdout",
          "text": [
            "['Apple', 'Banana', 'Mango', 'Coconut', 'Grapes']\n"
          ]
        }
      ]
    },
    {
      "cell_type": "code",
      "source": [
        "print(fruits+veggies)"
      ],
      "metadata": {
        "colab": {
          "base_uri": "https://localhost:8080/"
        },
        "id": "ROa3mucxMpcT",
        "outputId": "e907be46-038b-4c9b-84d9-a67c1313837d"
      },
      "execution_count": null,
      "outputs": [
        {
          "output_type": "stream",
          "name": "stdout",
          "text": [
            "['Apple', 'Banana', 'Mango', 'Coconut', 'Grapes', 'Carrot', 'Potato', 'Cauliflower', 'Tomato', 'Capsicum']\n"
          ]
        }
      ]
    },
    {
      "cell_type": "markdown",
      "source": [
        "PROPERTIES OF A LIST\n",
        "1. Mutable\n",
        "2. Ordered\n",
        "3. Allow duplicates\n",
        "4. Allows heterogenous datatypes"
      ],
      "metadata": {
        "id": "ckGhO-OqNIay"
      }
    },
    {
      "cell_type": "markdown",
      "source": [
        "## TUPLES"
      ],
      "metadata": {
        "id": "cuTp5Qu6NPHi"
      }
    },
    {
      "cell_type": "code",
      "source": [
        "t = (1, 2, 3, 4, 5)\n",
        "print(t)"
      ],
      "metadata": {
        "colab": {
          "base_uri": "https://localhost:8080/"
        },
        "id": "tk9QdOGFQfIm",
        "outputId": "3d7fc797-d058-4957-bcaa-5db461ef4535"
      },
      "execution_count": null,
      "outputs": [
        {
          "output_type": "stream",
          "name": "stdout",
          "text": [
            "(1, 2, 3, 4, 5)\n"
          ]
        }
      ]
    },
    {
      "cell_type": "code",
      "source": [
        "# To access an element in a tuple\n",
        "print(t[0])"
      ],
      "metadata": {
        "colab": {
          "base_uri": "https://localhost:8080/"
        },
        "id": "ALzHPTOnTGKH",
        "outputId": "0c861665-2b46-4612-aa96-f4118c40dea8"
      },
      "execution_count": null,
      "outputs": [
        {
          "output_type": "stream",
          "name": "stdout",
          "text": [
            "1\n"
          ]
        }
      ]
    },
    {
      "cell_type": "code",
      "source": [
        "print(t[2:4]) # 4 is excluded"
      ],
      "metadata": {
        "colab": {
          "base_uri": "https://localhost:8080/"
        },
        "id": "VTW126L2TRJD",
        "outputId": "d5b28ebc-89c3-4c3b-e5d6-a66756525b53"
      },
      "execution_count": null,
      "outputs": [
        {
          "output_type": "stream",
          "name": "stdout",
          "text": [
            "(3, 4)\n"
          ]
        }
      ]
    },
    {
      "cell_type": "code",
      "source": [
        "print(t[::2])"
      ],
      "metadata": {
        "colab": {
          "base_uri": "https://localhost:8080/"
        },
        "id": "pyicFcYBTn7H",
        "outputId": "d42480d7-907b-4850-986b-1c590984048b"
      },
      "execution_count": null,
      "outputs": [
        {
          "output_type": "stream",
          "name": "stdout",
          "text": [
            "(1, 3, 5)\n"
          ]
        }
      ]
    },
    {
      "cell_type": "code",
      "source": [
        "# Reversing a tuple <- doesn't mean altering (i.e. reversing) the tuple\n",
        "# it is creating another tuple and storing the elements of t in rverse order\n",
        "print(t[::-1])"
      ],
      "metadata": {
        "colab": {
          "base_uri": "https://localhost:8080/"
        },
        "id": "SuXaiMlbTs5O",
        "outputId": "0e8efd8e-59d7-4fac-cb45-699b1c224678"
      },
      "execution_count": null,
      "outputs": [
        {
          "output_type": "stream",
          "name": "stdout",
          "text": [
            "(5, 4, 3, 2, 1)\n"
          ]
        }
      ]
    },
    {
      "cell_type": "code",
      "source": [
        "print(t)"
      ],
      "metadata": {
        "colab": {
          "base_uri": "https://localhost:8080/"
        },
        "id": "FmwDOx65T1WC",
        "outputId": "3f6eabf3-ba1f-433f-e354-72320a82f03e"
      },
      "execution_count": null,
      "outputs": [
        {
          "output_type": "stream",
          "name": "stdout",
          "text": [
            "(1, 2, 3, 4, 5)\n"
          ]
        }
      ]
    },
    {
      "cell_type": "code",
      "source": [],
      "metadata": {
        "id": "i8ovqebWT5cT"
      },
      "execution_count": null,
      "outputs": []
    },
    {
      "cell_type": "code",
      "source": [
        "# Tuples are ordered\n",
        "type(t)"
      ],
      "metadata": {
        "colab": {
          "base_uri": "https://localhost:8080/"
        },
        "id": "gWiBHbgFQkFR",
        "outputId": "db999e24-721c-4fb0-f607-cb48e646668e"
      },
      "execution_count": null,
      "outputs": [
        {
          "output_type": "execute_result",
          "data": {
            "text/plain": [
              "tuple"
            ]
          },
          "metadata": {},
          "execution_count": 43
        }
      ]
    },
    {
      "cell_type": "code",
      "source": [
        "u = (1, 2, 3, 4, 5, 6, 1, 2)\n",
        "print(u)"
      ],
      "metadata": {
        "colab": {
          "base_uri": "https://localhost:8080/"
        },
        "id": "EBmFh9CYQlQQ",
        "outputId": "062ec380-682c-4363-aeb9-0f59654cbc77"
      },
      "execution_count": null,
      "outputs": [
        {
          "output_type": "stream",
          "name": "stdout",
          "text": [
            "(1, 2, 3, 4, 5, 6, 1, 2)\n"
          ]
        }
      ]
    },
    {
      "cell_type": "code",
      "source": [
        "# Tuples allow duplicates"
      ],
      "metadata": {
        "id": "x6bTTOfAQqQ8"
      },
      "execution_count": null,
      "outputs": []
    },
    {
      "cell_type": "code",
      "source": [
        "u.append(7)\n",
        "print(u)"
      ],
      "metadata": {
        "colab": {
          "base_uri": "https://localhost:8080/",
          "height": 166
        },
        "id": "K8zTEDQ4QwEI",
        "outputId": "c7814455-a340-4f35-e98d-331fad38d8a7"
      },
      "execution_count": null,
      "outputs": [
        {
          "output_type": "error",
          "ename": "AttributeError",
          "evalue": "'tuple' object has no attribute 'append'",
          "traceback": [
            "\u001b[0;31m---------------------------------------------------------------------------\u001b[0m",
            "\u001b[0;31mAttributeError\u001b[0m                            Traceback (most recent call last)",
            "\u001b[0;32m<ipython-input-45-52f8b37069dd>\u001b[0m in \u001b[0;36m<cell line: 1>\u001b[0;34m()\u001b[0m\n\u001b[0;32m----> 1\u001b[0;31m \u001b[0mu\u001b[0m\u001b[0;34m.\u001b[0m\u001b[0mappend\u001b[0m\u001b[0;34m(\u001b[0m\u001b[0;36m7\u001b[0m\u001b[0;34m)\u001b[0m\u001b[0;34m\u001b[0m\u001b[0;34m\u001b[0m\u001b[0m\n\u001b[0m\u001b[1;32m      2\u001b[0m \u001b[0mprint\u001b[0m\u001b[0;34m(\u001b[0m\u001b[0mu\u001b[0m\u001b[0;34m)\u001b[0m\u001b[0;34m\u001b[0m\u001b[0;34m\u001b[0m\u001b[0m\n",
            "\u001b[0;31mAttributeError\u001b[0m: 'tuple' object has no attribute 'append'"
          ]
        }
      ]
    },
    {
      "cell_type": "code",
      "source": [
        "# Tuples are immutable\n",
        "\n",
        "v = (1, 2.7, \"Hello\", True)\n",
        "print(v)"
      ],
      "metadata": {
        "colab": {
          "base_uri": "https://localhost:8080/"
        },
        "id": "99eu8PcbQ04Q",
        "outputId": "4e5497ca-e12f-49d9-a976-655bedf6f6d1"
      },
      "execution_count": null,
      "outputs": [
        {
          "output_type": "stream",
          "name": "stdout",
          "text": [
            "(1, 2.7, 'Hello', True)\n"
          ]
        }
      ]
    },
    {
      "cell_type": "markdown",
      "source": [
        "### PROPERTIES OF TUPLES\n",
        "1. Immutable\n",
        "2. Ordered\n",
        "3. Allows duplicates\n",
        "4. Allows heterogenous datatypes"
      ],
      "metadata": {
        "id": "z8vx5ZT-NVnO"
      }
    },
    {
      "cell_type": "markdown",
      "source": [
        "## SET"
      ],
      "metadata": {
        "id": "_qQSjFZZNa5-"
      }
    },
    {
      "cell_type": "code",
      "source": [
        "s = {1, 2, 3, 4, 5}\n",
        "print(s)"
      ],
      "metadata": {
        "colab": {
          "base_uri": "https://localhost:8080/"
        },
        "id": "-TDPPD-pR_o_",
        "outputId": "2bb25094-059c-4493-c22a-28a347411b1a"
      },
      "execution_count": null,
      "outputs": [
        {
          "output_type": "stream",
          "name": "stdout",
          "text": [
            "{1, 2, 3, 4, 5}\n"
          ]
        }
      ]
    },
    {
      "cell_type": "code",
      "source": [
        "type(s)"
      ],
      "metadata": {
        "colab": {
          "base_uri": "https://localhost:8080/"
        },
        "id": "qVd-8ASxV9oa",
        "outputId": "790094d8-d57d-4b26-e03d-2b6410a6696f"
      },
      "execution_count": null,
      "outputs": [
        {
          "output_type": "execute_result",
          "data": {
            "text/plain": [
              "set"
            ]
          },
          "metadata": {},
          "execution_count": 86
        }
      ]
    },
    {
      "cell_type": "code",
      "source": [
        "b  = {1, 2.6, True, \"Hello World\"}\n",
        "print(b)"
      ],
      "metadata": {
        "colab": {
          "base_uri": "https://localhost:8080/"
        },
        "id": "UWUWFxsMWAvB",
        "outputId": "31227ff9-2e8f-4fac-e54e-f4a481480054"
      },
      "execution_count": null,
      "outputs": [
        {
          "output_type": "stream",
          "name": "stdout",
          "text": [
            "{1, 'Hello World', 2.6}\n"
          ]
        }
      ]
    },
    {
      "cell_type": "code",
      "source": [
        "c = {1, 2, 1, 3, 4}\n",
        "print(c)"
      ],
      "metadata": {
        "colab": {
          "base_uri": "https://localhost:8080/"
        },
        "id": "xzxAgtZoWHVU",
        "outputId": "bb192363-4eb8-4433-b4c9-e8491003211f"
      },
      "execution_count": null,
      "outputs": [
        {
          "output_type": "stream",
          "name": "stdout",
          "text": [
            "{1, 2, 3, 4}\n"
          ]
        }
      ]
    },
    {
      "cell_type": "code",
      "source": [
        "c = {2, 3, 4, 1, 5}\n",
        "print(c)"
      ],
      "metadata": {
        "colab": {
          "base_uri": "https://localhost:8080/"
        },
        "id": "N58NjY6HWQSi",
        "outputId": "049c2a6f-4d0b-4e04-d03d-a0602682c7f7"
      },
      "execution_count": null,
      "outputs": [
        {
          "output_type": "stream",
          "name": "stdout",
          "text": [
            "{1, 2, 3, 4, 5}\n"
          ]
        }
      ]
    },
    {
      "cell_type": "code",
      "source": [
        "# OPERATIONS ON SETS\n",
        "x = {1, 2, 3, 4, 5, 6, 7, 8, 9, 10}\n",
        "print(x)"
      ],
      "metadata": {
        "colab": {
          "base_uri": "https://localhost:8080/"
        },
        "id": "alVKQPUqWr7b",
        "outputId": "c3bdbf61-a946-4580-d073-8c68aba31fe4"
      },
      "execution_count": null,
      "outputs": [
        {
          "output_type": "stream",
          "name": "stdout",
          "text": [
            "{1, 2, 3, 4, 5, 6, 7, 8, 9, 10}\n"
          ]
        }
      ]
    },
    {
      "cell_type": "code",
      "source": [
        "y = {5, 6, 7, 8, 9, 10, 11, 12, 13, 14}\n",
        "print(y)"
      ],
      "metadata": {
        "colab": {
          "base_uri": "https://localhost:8080/"
        },
        "id": "pJkXS18QWy2k",
        "outputId": "f7113fbf-7fe8-4d41-b5b0-f9ce32e73919"
      },
      "execution_count": null,
      "outputs": [
        {
          "output_type": "stream",
          "name": "stdout",
          "text": [
            "{5, 6, 7, 8, 9, 10, 11, 12, 13, 14}\n"
          ]
        }
      ]
    },
    {
      "cell_type": "code",
      "source": [
        "# UNION\n",
        "print(x | y)"
      ],
      "metadata": {
        "colab": {
          "base_uri": "https://localhost:8080/"
        },
        "id": "kwcrreajW_xY",
        "outputId": "2577e23a-73fd-42df-c979-e8267d9efa9d"
      },
      "execution_count": null,
      "outputs": [
        {
          "output_type": "stream",
          "name": "stdout",
          "text": [
            "{1, 2, 3, 4, 5, 6, 7, 8, 9, 10, 11, 12, 13, 14}\n"
          ]
        }
      ]
    },
    {
      "cell_type": "code",
      "source": [
        "# INTERSECTION\n",
        "print(x & y)"
      ],
      "metadata": {
        "colab": {
          "base_uri": "https://localhost:8080/"
        },
        "id": "DEGf6D9NXXdd",
        "outputId": "1c166f40-82ff-491f-aca8-d1c6ad881a17"
      },
      "execution_count": null,
      "outputs": [
        {
          "output_type": "stream",
          "name": "stdout",
          "text": [
            "{5, 6, 7, 8, 9, 10}\n"
          ]
        }
      ]
    },
    {
      "cell_type": "code",
      "source": [
        "x.add(11)\n",
        "print(x)"
      ],
      "metadata": {
        "colab": {
          "base_uri": "https://localhost:8080/"
        },
        "id": "2LtM5EZ0XfP5",
        "outputId": "931ad809-6dae-4ab4-bc63-c8a7fc6f87ab"
      },
      "execution_count": null,
      "outputs": [
        {
          "output_type": "stream",
          "name": "stdout",
          "text": [
            "{1, 2, 3, 4, 5, 6, 7, 8, 9, 10, 11}\n"
          ]
        }
      ]
    },
    {
      "cell_type": "markdown",
      "source": [
        "### PROPERTIES OF SET\n",
        "1. Unordered\n",
        "2. Allows heterogenous datatypes except boolean\n",
        "3. Doesn't allow duplicates"
      ],
      "metadata": {
        "id": "w9dA7krZNerG"
      }
    },
    {
      "cell_type": "markdown",
      "source": [
        "## DICTIONARY"
      ],
      "metadata": {
        "id": "Dj3N30aWNi3W"
      }
    },
    {
      "cell_type": "code",
      "source": [
        "# Syntax: <dict_name> = {key:value, ...}\n",
        "data = {1:\"Python\", 2:\"C\", 3:\"C++\", 4:\"Java\"}\n",
        "print(data)\n",
        "type(data)"
      ],
      "metadata": {
        "colab": {
          "base_uri": "https://localhost:8080/"
        },
        "id": "QNKNn9jyX2m7",
        "outputId": "3bc5260e-0437-4c5e-8ec9-552634716a83"
      },
      "execution_count": null,
      "outputs": [
        {
          "output_type": "stream",
          "name": "stdout",
          "text": [
            "{1: 'Python', 2: 'C', 3: 'C++', 4: 'Java'}\n"
          ]
        },
        {
          "output_type": "execute_result",
          "data": {
            "text/plain": [
              "dict"
            ]
          },
          "metadata": {},
          "execution_count": 1
        }
      ]
    },
    {
      "cell_type": "code",
      "source": [
        "cars = {\"Brand\":[\"Maruti\", \"Ford\", \"Volvo\"], \"passings\":[3,7,19]}\n",
        "print(cars)"
      ],
      "metadata": {
        "colab": {
          "base_uri": "https://localhost:8080/"
        },
        "id": "ibDkzi3RYhE5",
        "outputId": "0c746ed5-b425-42a7-b77c-78640ba73087"
      },
      "execution_count": null,
      "outputs": [
        {
          "output_type": "stream",
          "name": "stdout",
          "text": [
            "{'Brand': ['Maruti', 'Ford', 'Volvo'], 'passings': [3, 7, 19]}\n"
          ]
        }
      ]
    },
    {
      "cell_type": "code",
      "source": [
        "type(cars)"
      ],
      "metadata": {
        "colab": {
          "base_uri": "https://localhost:8080/"
        },
        "id": "-VdTCkqWZJ8W",
        "outputId": "d563fbbf-95d6-4da7-fde4-1ca8cbb13dcc"
      },
      "execution_count": null,
      "outputs": [
        {
          "output_type": "execute_result",
          "data": {
            "text/plain": [
              "dict"
            ]
          },
          "metadata": {},
          "execution_count": 3
        }
      ]
    }
  ],
  "metadata": {
    "colab": {
      "provenance": []
    },
    "kernelspec": {
      "display_name": "Python 3",
      "name": "python3"
    },
    "language_info": {
      "name": "python"
    }
  },
  "nbformat": 4,
  "nbformat_minor": 0
}